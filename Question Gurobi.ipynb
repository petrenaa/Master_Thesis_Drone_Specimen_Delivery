{
 "cells": [
  {
   "cell_type": "code",
   "execution_count": 1,
   "metadata": {},
   "outputs": [],
   "source": [
    "import pandas as pd\n",
    "\n",
    "I = pd.DataFrame(index = ['i0', 'i1', 'i2', 'i3', 'i4'])\n",
    "\n",
    "L = [('k0', 'j2'),\n",
    " ('k0', 'j3'),\n",
    " ('k0', 'j4'),\n",
    " ('k1', 'j3'),\n",
    " ('k2', 'j1'),\n",
    " ('k2', 'j2'),\n",
    " ('k2', 'j4')]\n",
    "\n",
    "N_i = {'i0': [('k0', 'j4')],\n",
    " 'i1': [('k0', 'j3'), ('k1', 'j3')],\n",
    " 'i2': [],\n",
    " 'i3': [('k0', 'j2'), ('k0', 'j3'), ('k0', 'j4'), ('k2', 'j2'), ('k2', 'j4')],\n",
    " 'i4': [('k0', 'j4')]}\n",
    "\n",
    "theta = {'i0': 27, 'i1': 36, 'i2': 31, 'i3': 14, 'i4': 41}\n"
   ]
  },
  {
   "cell_type": "code",
   "execution_count": 3,
   "metadata": {},
   "outputs": [
    {
     "name": "stdout",
     "output_type": "stream",
     "text": [
      "Restricted license - for non-production use only - expires 2024-10-28\n"
     ]
    },
    {
     "data": {
      "text/plain": [
       "{'i0': <gurobi.Constr *Awaiting Model Update*>,\n",
       " 'i1': <gurobi.Constr *Awaiting Model Update*>,\n",
       " 'i2': <gurobi.Constr *Awaiting Model Update*>,\n",
       " 'i3': <gurobi.Constr *Awaiting Model Update*>,\n",
       " 'i4': <gurobi.Constr *Awaiting Model Update*>}"
      ]
     },
     "execution_count": 3,
     "metadata": {},
     "output_type": "execute_result"
    }
   ],
   "source": [
    "import gurobipy as gp\n",
    "from gurobipy import GRB\n",
    "import itertools\n",
    "\n",
    "model1 = gp.Model('Location-allocation problem 1')\n",
    "\n",
    "x_ikj = model1.addVars(I.index, L, vtype = GRB.INTEGER, name = 'x_ikj')\n",
    "\n",
    "\n",
    "\n",
    "model1.addConstrs(gp.quicksum(x_ikj[i, k, j]\n",
    "            for (k, j) in N_i[i]) >= theta[i] for i in I.index)"
   ]
  }
 ],
 "metadata": {
  "kernelspec": {
   "display_name": "base",
   "language": "python",
   "name": "python3"
  },
  "language_info": {
   "codemirror_mode": {
    "name": "ipython",
    "version": 3
   },
   "file_extension": ".py",
   "mimetype": "text/x-python",
   "name": "python",
   "nbconvert_exporter": "python",
   "pygments_lexer": "ipython3",
   "version": "3.9.12"
  }
 },
 "nbformat": 4,
 "nbformat_minor": 2
}
