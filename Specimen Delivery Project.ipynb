{
 "cells": [
  {
   "cell_type": "code",
   "execution_count": 89,
   "metadata": {},
   "outputs": [],
   "source": [
    "import pandas as pd\n",
    "import numpy as np\n",
    "import matplotlib.pyplot as plt\n",
    "import math\n",
    "import itertools\n",
    "import random\n",
    "random.seed(108448)\n",
    "from scipy.stats import poisson\n",
    "\n",
    "#%pip install gurobipy\n",
    "import gurobipy as gp\n",
    "from gurobipy import GRB"
   ]
  },
  {
   "cell_type": "code",
   "execution_count": 90,
   "metadata": {},
   "outputs": [],
   "source": [
    "#Define the number of elememts in each set I, J, K\n",
    "i_num = 15\n",
    "k_num = 1\n",
    "j_num = 100 #Without I and K, so real j_num_real = j_num + i_num + k_num\n",
    "\n",
    "#Define empty data frames\n",
    "I = pd.DataFrame(columns = ['Point number', 'Latitude', 'Longtitude'])\n",
    "J = pd.DataFrame(columns = ['Point number', 'Latitude', 'Longtitude'])\n",
    "K = pd.DataFrame(columns = ['Point number', 'Latitude', 'Longtitude'])\n"
   ]
  },
  {
   "cell_type": "code",
   "execution_count": 91,
   "metadata": {},
   "outputs": [
    {
     "data": {
      "text/plain": [
       "Index(['i0', 'i1', 'i2', 'i3', 'i4', 'i5', 'i6', 'i7', 'i8', 'i9', 'i10',\n",
       "       'i11', 'i12', 'i13', 'i14'],\n",
       "      dtype='object', name='Point number')"
      ]
     },
     "execution_count": 91,
     "metadata": {},
     "output_type": "execute_result"
    }
   ],
   "source": [
    "#Define sets of I, J, K, where J contains I and K\n",
    "\n",
    "for i in range(i_num):\n",
    "    I.loc[i, 'Point number'] = 'i'+ str(i)\n",
    "    I.loc[i, 'Latitude'] = round(random.uniform(0, 100), 4)\n",
    "    I.loc[i, 'Longtitude'] = round(random.uniform(0, 100), 4)\n",
    "\n",
    "I.index = I['Point number']\n",
    "    \n",
    "    \n",
    "for k in range(k_num):\n",
    "    K.loc[k, 'Point number'] = 'k'+ str(k)\n",
    "    K.loc[k, 'Latitude'] = round(random.uniform(0, 100), 4)\n",
    "    K.loc[k, 'Longtitude'] = round(random.uniform(0, 100), 4)\n",
    "\n",
    "K.index = K['Point number']\n",
    "\n",
    "\n",
    "for j in range(j_num):\n",
    "    J.loc[j, 'Point number'] = 'j'+ str(j)\n",
    "    J.loc[j, 'Latitude'] = round(random.uniform(0, 100), 4)\n",
    "    J.loc[j, 'Longtitude'] = round(random.uniform(0, 100), 4)\n",
    "\n",
    "J.index = J['Point number'] \n",
    "J = pd.concat([J, K], axis = 0) #Include K to J\n",
    "I.index"
   ]
  },
  {
   "cell_type": "code",
   "execution_count": 92,
   "metadata": {},
   "outputs": [
    {
     "data": {
      "text/plain": [
       "<matplotlib.legend.Legend at 0x247f52eab20>"
      ]
     },
     "execution_count": 92,
     "metadata": {},
     "output_type": "execute_result"
    },
    {
     "data": {
      "image/png": "[encoded data removed]",
      "text/plain": [
       "<Figure size 432x288 with 1 Axes>"
      ]
     },
     "metadata": {
      "needs_background": "light"
     },
     "output_type": "display_data"
    }
   ],
   "source": [
    "plt.scatter(J['Latitude'], J['Longtitude'], color = 'blue', edgecolors = 'black',\n",
    "            marker = 'o', s = 30, label = 'J')\n",
    "plt.scatter(I['Latitude'], I['Longtitude'], color = 'gold', edgecolors = 'black',\n",
    "            marker = 's', s = 50, label = 'I')\n",
    "plt.scatter(K['Latitude'], K['Longtitude'], color = 'red', edgecolors = 'black',\n",
    "            marker = 'd', s = 90, label = 'K')\n",
    "plt.legend(loc='center left', bbox_to_anchor=(1, 0.5))"
   ]
  },
  {
   "cell_type": "code",
   "execution_count": 93,
   "metadata": {},
   "outputs": [
    {
     "data": {
      "text/plain": [
       "{'i0': 10,\n",
       " 'i1': 4,\n",
       " 'i2': 7,\n",
       " 'i3': 6,\n",
       " 'i4': 12,\n",
       " 'i5': 5,\n",
       " 'i6': 11,\n",
       " 'i7': 1,\n",
       " 'i8': 9,\n",
       " 'i9': 8,\n",
       " 'i10': 10,\n",
       " 'i11': 5,\n",
       " 'i12': 5,\n",
       " 'i13': 7,\n",
       " 'i14': 5}"
      ]
     },
     "execution_count": 93,
     "metadata": {},
     "output_type": "execute_result"
    }
   ],
   "source": [
    "#Define constants\n",
    "\n",
    "B = 100\n",
    "S = 10\n",
    "alpha = 10\n",
    "beta = 400\n",
    "q_j = {j: 50 for j in J.index}\n",
    "up_bound = 12\n",
    "mu = {i : int(round(random.uniform(0, up_bound), 0)) for i in I.index}\n",
    "mu"
   ]
  },
  {
   "cell_type": "markdown",
   "metadata": {},
   "source": [
    "Deterministic model"
   ]
  },
  {
   "cell_type": "code",
   "execution_count": 94,
   "metadata": {},
   "outputs": [
    {
     "data": {
      "text/plain": [
       "{'i0': 13,\n",
       " 'i1': 2,\n",
       " 'i2': 7,\n",
       " 'i3': 7,\n",
       " 'i4': 8,\n",
       " 'i5': 10,\n",
       " 'i6': 6,\n",
       " 'i7': 0,\n",
       " 'i8': 13,\n",
       " 'i9': 6,\n",
       " 'i10': 12,\n",
       " 'i11': 4,\n",
       " 'i12': 7,\n",
       " 'i13': 7,\n",
       " 'i14': 7}"
      ]
     },
     "execution_count": 94,
     "metadata": {},
     "output_type": "execute_result"
    }
   ],
   "source": [
    "theta_det = {}\n",
    "for n in I.index:\n",
    "    theta_det[n] = list(poisson.rvs(mu[n], size = 1))[0]\n",
    "theta_det"
   ]
  },
  {
   "cell_type": "code",
   "execution_count": 95,
   "metadata": {},
   "outputs": [
    {
     "data": {
      "text/plain": [
       "{('k0', 'j0'): 20.610534417622457,\n",
       " ('k0', 'j1'): 29.147403584024424,\n",
       " ('k0', 'j2'): 27.068736046221293,\n",
       " ('k0', 'j3'): 52.65707135836554,\n",
       " ('k0', 'j4'): 38.67285850890776,\n",
       " ('k0', 'j5'): 39.29505438601657,\n",
       " ('k0', 'j6'): 23.219476089050758,\n",
       " ('k0', 'j7'): 41.212417563642155,\n",
       " ('k0', 'j8'): 25.814382501621072,\n",
       " ('k0', 'j9'): 47.12960665282493,\n",
       " ('k0', 'j10'): 52.76688282521528,\n",
       " ('k0', 'j11'): 54.61355882644896,\n",
       " ('k0', 'j12'): 29.085347093167037,\n",
       " ('k0', 'j13'): 43.42952123935975,\n",
       " ('k0', 'j14'): 34.879126162362496,\n",
       " ('k0', 'j15'): 47.59403329010897,\n",
       " ('k0', 'j16'): 32.24848978494962,\n",
       " ('k0', 'j17'): 29.636980772676562,\n",
       " ('k0', 'j18'): 25.560151370835037,\n",
       " ('k0', 'j19'): 20.118307540148603,\n",
       " ('k0', 'j20'): 34.427811261536796,\n",
       " ('k0', 'j21'): 21.289978572558496,\n",
       " ('k0', 'j22'): 57.224222071863935,\n",
       " ('k0', 'j23'): 41.364091248327945,\n",
       " ('k0', 'j24'): 21.501188937591337,\n",
       " ('k0', 'j25'): 23.33028397362535,\n",
       " ('k0', 'j26'): 55.13141140602152,\n",
       " ('k0', 'j27'): 58.97689578953779,\n",
       " ('k0', 'j28'): 55.775685145500454,\n",
       " ('k0', 'j29'): 69.14345749237596,\n",
       " ('k0', 'j30'): 57.583212494267805,\n",
       " ('k0', 'j31'): 32.89089210723844,\n",
       " ('k0', 'j32'): 23.66611547550633,\n",
       " ('k0', 'j33'): 35.79873354100673,\n",
       " ('k0', 'j34'): 3.7146056479793357,\n",
       " ('k0', 'j35'): 26.248963580492088,\n",
       " ('k0', 'j36'): 15.67273666785734,\n",
       " ('k0', 'j37'): 32.62363272997046,\n",
       " ('k0', 'j38'): 13.339180089120918,\n",
       " ('k0', 'j39'): 45.0199905598613,\n",
       " ('k0', 'j40'): 62.97576734530512,\n",
       " ('k0', 'j41'): 44.84363782578304,\n",
       " ('k0', 'j42'): 24.431463637080768,\n",
       " ('k0', 'j43'): 48.13296759695999,\n",
       " ('k0', 'j44'): 44.68496299853005,\n",
       " ('k0', 'j45'): 22.877887664074237,\n",
       " ('k0', 'j46'): 49.07022646004398,\n",
       " ('k0', 'j47'): 50.82334153526311,\n",
       " ('k0', 'j48'): 35.48789814288809,\n",
       " ('k0', 'j49'): 51.87768484550944,\n",
       " ('k0', 'j50'): 48.43080002023507,\n",
       " ('k0', 'j51'): 61.39621535730033,\n",
       " ('k0', 'j52'): 39.045045864488365,\n",
       " ('k0', 'j53'): 38.06856016728239,\n",
       " ('k0', 'j54'): 44.02529204411937,\n",
       " ('k0', 'j55'): 48.81171711761429,\n",
       " ('k0', 'j56'): 42.81510770744364,\n",
       " ('k0', 'j57'): 58.45688297959446,\n",
       " ('k0', 'j58'): 65.49128013529739,\n",
       " ('k0', 'j59'): 42.10115717898975,\n",
       " ('k0', 'j60'): 52.64680173096938,\n",
       " ('k0', 'j61'): 55.10096814031492,\n",
       " ('k0', 'j62'): 59.70758289547485,\n",
       " ('k0', 'j63'): 44.193043561402284,\n",
       " ('k0', 'j64'): 56.99997999192631,\n",
       " ('k0', 'j65'): 41.82974984684943,\n",
       " ('k0', 'j66'): 59.08788338949027,\n",
       " ('k0', 'j67'): 38.299409672343515,\n",
       " ('k0', 'j68'): 45.04444742629217,\n",
       " ('k0', 'j69'): 49.917725170624514,\n",
       " ('k0', 'j70'): 44.47400367967786,\n",
       " ('k0', 'j71'): 47.15332837043425,\n",
       " ('k0', 'j72'): 44.374630377502875,\n",
       " ('k0', 'j73'): 14.811917730327833,\n",
       " ('k0', 'j74'): 21.549515168560053,\n",
       " ('k0', 'j75'): 53.13433965572547,\n",
       " ('k0', 'j76'): 16.45915590818679,\n",
       " ('k0', 'j77'): 11.337962991648899,\n",
       " ('k0', 'j78'): 29.45047861903097,\n",
       " ('k0', 'j79'): 33.90964452128627,\n",
       " ('k0', 'j80'): 54.67444074812288,\n",
       " ('k0', 'j81'): 44.047135942873744,\n",
       " ('k0', 'j82'): 14.755093923116856,\n",
       " ('k0', 'j83'): 18.15806118284659,\n",
       " ('k0', 'j84'): 51.7925247298295,\n",
       " ('k0', 'j85'): 35.72826876970111,\n",
       " ('k0', 'j86'): 24.83170215530945,\n",
       " ('k0', 'j87'): 38.280291143354695,\n",
       " ('k0', 'j88'): 53.79174505739705,\n",
       " ('k0', 'j89'): 30.27415567939096,\n",
       " ('k0', 'j90'): 21.60077712606655,\n",
       " ('k0', 'j91'): 45.18001747764159,\n",
       " ('k0', 'j92'): 33.334785444637255,\n",
       " ('k0', 'j93'): 46.72117465004493,\n",
       " ('k0', 'j94'): 55.14680046566618,\n",
       " ('k0', 'j95'): 43.673188097160946,\n",
       " ('k0', 'j96'): 43.31820883473831,\n",
       " ('k0', 'j97'): 12.432742356374957,\n",
       " ('k0', 'j98'): 47.0320669680804,\n",
       " ('k0', 'j99'): 43.259269819311555,\n",
       " ('k0', 'k0'): 0.0}"
      ]
     },
     "execution_count": 95,
     "metadata": {},
     "output_type": "execute_result"
    }
   ],
   "source": [
    "#Define distance matrices\n",
    "\n",
    "def distance(point1, PointsSet1, point2, PointsSet2):\n",
    "    c1 = np.array((PointsSet1.loc[point1, 'Latitude'], PointsSet1.loc[point1, 'Longtitude']))\n",
    "    c2 = np.array((PointsSet2.loc[point2, 'Latitude'], PointsSet2.loc[point2, 'Longtitude']))\n",
    "    return np.linalg.norm(c1-c2)\n",
    "\n",
    "dist_JI = {(c1, c2): distance(c1, J, c2, I)for c1, c2 in itertools.product(J.index, I.index)}\n",
    "dist_IK = {(c1, c2): distance(c1, I, c2, K)for c1, c2 in itertools.product(I.index, K.index)}\n",
    "dist_KJ = {(c1, c2): distance(c1, K, c2, J)for c1, c2 in itertools.product(K.index, J.index)}\n",
    " \n",
    "dist_KJ\n"
   ]
  },
  {
   "cell_type": "code",
   "execution_count": 96,
   "metadata": {},
   "outputs": [
    {
     "data": {
      "text/plain": [
       "[('k0', 'j0'),\n",
       " ('k0', 'j1'),\n",
       " ('k0', 'j2'),\n",
       " ('k0', 'j4'),\n",
       " ('k0', 'j5'),\n",
       " ('k0', 'j6'),\n",
       " ('k0', 'j7'),\n",
       " ('k0', 'j8'),\n",
       " ('k0', 'j9'),\n",
       " ('k0', 'j12'),\n",
       " ('k0', 'j13'),\n",
       " ('k0', 'j14'),\n",
       " ('k0', 'j15'),\n",
       " ('k0', 'j16'),\n",
       " ('k0', 'j17'),\n",
       " ('k0', 'j18'),\n",
       " ('k0', 'j19'),\n",
       " ('k0', 'j20'),\n",
       " ('k0', 'j21'),\n",
       " ('k0', 'j23'),\n",
       " ('k0', 'j24'),\n",
       " ('k0', 'j25'),\n",
       " ('k0', 'j31'),\n",
       " ('k0', 'j32'),\n",
       " ('k0', 'j33'),\n",
       " ('k0', 'j34'),\n",
       " ('k0', 'j35'),\n",
       " ('k0', 'j36'),\n",
       " ('k0', 'j37'),\n",
       " ('k0', 'j38'),\n",
       " ('k0', 'j39'),\n",
       " ('k0', 'j41'),\n",
       " ('k0', 'j42'),\n",
       " ('k0', 'j43'),\n",
       " ('k0', 'j44'),\n",
       " ('k0', 'j45'),\n",
       " ('k0', 'j46'),\n",
       " ('k0', 'j48'),\n",
       " ('k0', 'j50'),\n",
       " ('k0', 'j52'),\n",
       " ('k0', 'j53'),\n",
       " ('k0', 'j54'),\n",
       " ('k0', 'j55'),\n",
       " ('k0', 'j56'),\n",
       " ('k0', 'j59'),\n",
       " ('k0', 'j63'),\n",
       " ('k0', 'j65'),\n",
       " ('k0', 'j67'),\n",
       " ('k0', 'j68'),\n",
       " ('k0', 'j69'),\n",
       " ('k0', 'j70'),\n",
       " ('k0', 'j71'),\n",
       " ('k0', 'j72'),\n",
       " ('k0', 'j73'),\n",
       " ('k0', 'j74'),\n",
       " ('k0', 'j76'),\n",
       " ('k0', 'j77'),\n",
       " ('k0', 'j78'),\n",
       " ('k0', 'j79'),\n",
       " ('k0', 'j81'),\n",
       " ('k0', 'j82'),\n",
       " ('k0', 'j83'),\n",
       " ('k0', 'j85'),\n",
       " ('k0', 'j86'),\n",
       " ('k0', 'j87'),\n",
       " ('k0', 'j89'),\n",
       " ('k0', 'j90'),\n",
       " ('k0', 'j91'),\n",
       " ('k0', 'j92'),\n",
       " ('k0', 'j93'),\n",
       " ('k0', 'j95'),\n",
       " ('k0', 'j96'),\n",
       " ('k0', 'j97'),\n",
       " ('k0', 'j98'),\n",
       " ('k0', 'j99'),\n",
       " ('k0', 'k0')]"
      ]
     },
     "execution_count": 96,
     "metadata": {},
     "output_type": "execute_result"
    }
   ],
   "source": [
    "#Define set L\n",
    "L = list()\n",
    "for k, j in itertools.product(K.index, J.index):\n",
    "    if dist_KJ[(k, j)] <= 0.5*B:\n",
    "        L.append((k, j))\n",
    "        \n",
    "L"
   ]
  },
  {
   "cell_type": "code",
   "execution_count": 97,
   "metadata": {},
   "outputs": [
    {
     "data": {
      "text/plain": [
       "[('k0', 'j4'),\n",
       " ('k0', 'j5'),\n",
       " ('k0', 'j14'),\n",
       " ('k0', 'j17'),\n",
       " ('k0', 'j18'),\n",
       " ('k0', 'j23'),\n",
       " ('k0', 'j25'),\n",
       " ('k0', 'j31'),\n",
       " ('k0', 'j32'),\n",
       " ('k0', 'j33'),\n",
       " ('k0', 'j35'),\n",
       " ('k0', 'j36'),\n",
       " ('k0', 'j39'),\n",
       " ('k0', 'j42'),\n",
       " ('k0', 'j43'),\n",
       " ('k0', 'j52'),\n",
       " ('k0', 'j56'),\n",
       " ('k0', 'j70'),\n",
       " ('k0', 'j82'),\n",
       " ('k0', 'j87'),\n",
       " ('k0', 'j89'),\n",
       " ('k0', 'j92'),\n",
       " ('k0', 'j96'),\n",
       " ('k0', 'j97')]"
      ]
     },
     "execution_count": 97,
     "metadata": {},
     "output_type": "execute_result"
    }
   ],
   "source": [
    "#Define sets M_kj\n",
    "\n",
    "M_kj = {}\n",
    "M_interim = []\n",
    "\n",
    "for (k, j) in L:\n",
    "    for i in I.index:\n",
    "        if dist_JI[j, i] <= S:\n",
    "            if dist_JI[j, i] + dist_IK[i, k] + dist_KJ[k, j] <= B:\n",
    "                M_interim.append(i)\n",
    "    M_kj[(k, j)] = M_interim\n",
    "    M_interim = []\n",
    "\n",
    "M_kj_interim = {key : val for key, val in M_kj.items() if val != []}  \n",
    "\n",
    "KJ_feas = list(M_kj_interim.keys())\n",
    "KJ_feas\n"
   ]
  },
  {
   "cell_type": "code",
   "execution_count": 98,
   "metadata": {},
   "outputs": [
    {
     "data": {
      "text/plain": [
       "['i0', 'i1', 'i2', 'i3', 'i4', 'i5', 'i6', 'i10', 'i11']"
      ]
     },
     "execution_count": 98,
     "metadata": {},
     "output_type": "execute_result"
    }
   ],
   "source": [
    "#Define sets N_i\n",
    "\n",
    "N_i = {}\n",
    "N_interim = []\n",
    "\n",
    "for i in I.index:\n",
    "    for (k, j) in L:\n",
    "        if dist_JI[j, i] <= S:\n",
    "            if dist_JI[j, i] + dist_IK[i, k] + dist_KJ[k, j] <= B:\n",
    "                N_interim.append((k, j))\n",
    "    N_i[i] = N_interim\n",
    "    N_interim = []\n",
    "    \n",
    "N_i_interim = {key : val for key, val in N_i.items() if val != []}   \n",
    " \n",
    "I_feas = list(N_i_interim.keys())\n",
    "I_feas"
   ]
  },
  {
   "cell_type": "code",
   "execution_count": 99,
   "metadata": {},
   "outputs": [],
   "source": [
    "model_det = gp.Model('Deterministic model')\n",
    "\n",
    "x_ikj = model_det.addVars(I.index, L, vtype = GRB.INTEGER, name = 'x_ikj')\n",
    "y_j = model_det.addVars(J.index, vtype = GRB.BINARY, name = 'y_j')"
   ]
  },
  {
   "cell_type": "code",
   "execution_count": 100,
   "metadata": {},
   "outputs": [
    {
     "data": {
      "text/plain": [
       "{}"
      ]
     },
     "execution_count": 100,
     "metadata": {},
     "output_type": "execute_result"
    }
   ],
   "source": [
    "model_det.addConstrs((gp.quicksum(x_ikj[i, k, j] for (k, j) in N_i[i]) >= theta_det[i] for i in I_feas), name = 'c2')\n",
    "model_det.addConstrs((gp.quicksum(x_ikj[i, k, j] for i in M_kj[(k, j)]) <= q_j[j] * y_j[j] for (k, j) in KJ_feas), name = 'c4')\n",
    "model_det.addConstrs(((dist_JI[(j, i)] + dist_IK[(i, k)] + dist_KJ[(k, j)]) * y_j[j] <= B\n",
    "                  for (k, j) in N_i[i] for i in M_kj[(k, j)]), name = 'c5')\n",
    "model_det.addConstrs((dist_JI[(j, i)] * y_j[j] <= S for (k, j) in N_i[i] for i in M_kj[(k, j)]), name = 'c6')"
   ]
  },
  {
   "cell_type": "code",
   "execution_count": 101,
   "metadata": {},
   "outputs": [],
   "source": [
    "model_det.setObjective(alpha * gp.quicksum(x_ikj) + beta * gp.quicksum(y_j), GRB.MINIMIZE)"
   ]
  },
  {
   "cell_type": "code",
   "execution_count": 102,
   "metadata": {},
   "outputs": [
    {
     "name": "stdout",
     "output_type": "stream",
     "text": [
      "Gurobi Optimizer version 10.0.3 build v10.0.3rc0 (win64)\n",
      "\n",
      "CPU model: 11th Gen Intel(R) Core(TM) i5-1145G7 @ 2.60GHz, instruction set [SSE2|AVX|AVX2|AVX512]\n",
      "Thread count: 4 physical cores, 8 logical processors, using up to 8 threads\n",
      "\n",
      "Optimize a model with 33 rows, 1241 columns and 82 nonzeros\n",
      "Model fingerprint: 0xca466fbf\n",
      "Variable types: 0 continuous, 1241 integer (101 binary)\n",
      "Coefficient statistics:\n",
      "  Matrix range     [1e+00, 5e+01]\n",
      "  Objective range  [1e+01, 4e+02]\n",
      "  Bounds range     [1e+00, 1e+00]\n",
      "  RHS range        [2e+00, 1e+01]\n",
      "Found heuristic solution: objective 3890.0000000\n",
      "Presolve removed 24 rows and 1223 columns\n",
      "Presolve time: 0.00s\n",
      "Presolved: 9 rows, 18 columns, 29 nonzeros\n",
      "Found heuristic solution: objective 3490.0000000\n",
      "Variable types: 0 continuous, 18 integer (7 binary)\n",
      "\n",
      "Root relaxation: cutoff, 10 iterations, 0.00 seconds (0.00 work units)\n",
      "\n",
      "    Nodes    |    Current Node    |     Objective Bounds      |     Work\n",
      " Expl Unexpl |  Obj  Depth IntInf | Incumbent    BestBd   Gap | It/Node Time\n",
      "\n",
      "     0     0     cutoff    0      3490.00000 3490.00000  0.00%     -    0s\n",
      "\n",
      "Explored 1 nodes (10 simplex iterations) in 0.02 seconds (0.00 work units)\n",
      "Thread count was 8 (of 8 available processors)\n",
      "\n",
      "Solution count 2: 3490 3890 \n",
      "\n",
      "Optimal solution found (tolerance 1.00e-04)\n",
      "Best objective 3.490000000000e+03, best bound 3.490000000000e+03, gap 0.0000%\n"
     ]
    }
   ],
   "source": [
    "model_det.optimize()"
   ]
  },
  {
   "cell_type": "code",
   "execution_count": 103,
   "metadata": {},
   "outputs": [
    {
     "name": "stdout",
     "output_type": "stream",
     "text": [
      "Number of solutions found: 2\n",
      "3490 \n",
      "x_ikj[i0,k0,j17] 13\n",
      "x_ikj[i1,k0,j97] 2\n",
      "x_ikj[i2,k0,j96] 7\n",
      "x_ikj[i3,k0,j18] 7\n",
      "x_ikj[i4,k0,j17] 8\n",
      "x_ikj[i5,k0,j39] 10\n",
      "x_ikj[i6,k0,j14] 6\n",
      "x_ikj[i10,k0,j70] 12\n",
      "x_ikj[i11,k0,j97] 4\n",
      "y_j[j14] 1\n",
      "y_j[j17] 1\n",
      "y_j[j18] 1\n",
      "y_j[j39] 1\n",
      "y_j[j70] 1\n",
      "y_j[j96] 1\n",
      "y_j[j97] 1\n",
      "\n",
      "\n",
      "3890 \n",
      "x_ikj[i0,k0,j17] 13\n",
      "x_ikj[i1,k0,j36] 2\n",
      "x_ikj[i2,k0,j56] 7\n",
      "x_ikj[i3,k0,j18] 7\n",
      "x_ikj[i4,k0,j17] 8\n",
      "x_ikj[i5,k0,j39] 10\n",
      "x_ikj[i6,k0,j14] 6\n",
      "x_ikj[i10,k0,j70] 12\n",
      "x_ikj[i11,k0,j97] 4\n",
      "y_j[j14] 1\n",
      "y_j[j17] 1\n",
      "y_j[j18] 1\n",
      "y_j[j36] 1\n",
      "y_j[j39] 1\n",
      "y_j[j56] 1\n",
      "y_j[j70] 1\n",
      "y_j[j97] 1\n",
      "\n",
      "\n",
      "\n",
      "\n"
     ]
    }
   ],
   "source": [
    "def ListSolution(model):\n",
    "        nSolutions = model_det.SolCount\n",
    "        print('Number of solutions found: ' + str(nSolutions))\n",
    "        for e in range(nSolutions):\n",
    "        #for iter2 in range(1):\n",
    "                model_det.setParam(GRB.Param.SolutionNumber, e)\n",
    "                print('%g ' % model_det.PoolObjVal, end='\\n')\n",
    "                for v in model_det.getVars():\n",
    "                        if v.xn > 0:\n",
    "                                print ('%s %g' % (v.varName, v.Xn))\n",
    "                print(\"\\n\")\n",
    "        print(\"\\n\")\n",
    "        \n",
    "ListSolution(model_det)"
   ]
  },
  {
   "cell_type": "code",
   "execution_count": 104,
   "metadata": {},
   "outputs": [
    {
     "data": {
      "image/png": "[encoded data removed]",
      "text/plain": [
       "<Figure size 432x288 with 1 Axes>"
      ]
     },
     "metadata": {
      "needs_background": "light"
     },
     "output_type": "display_data"
    }
   ],
   "source": [
    "def SolutionGraph(I, K, J, model):\n",
    "    \n",
    "    # plt.scatter(J['Latitude'], J['Longtitude'], color = 'blue', edgecolors = 'black',\n",
    "    #             marker = 'o', s = 30, label = 'J')\n",
    "    plt.scatter(I['Latitude'], I['Longtitude'], color = 'gold', edgecolors = 'black',\n",
    "                marker = 's', s = 50, label = 'I')\n",
    "    plt.scatter(K['Latitude'], K['Longtitude'], color = 'red', edgecolors = 'black',\n",
    "                marker = 'd', s = 90, label = 'K')\n",
    "    for v in model.getVars():\n",
    "        if v.xn > 0:\n",
    "            if v.varName.startswith('x_ikj'):\n",
    "                indices_x = v.varName[6:-1].split(',') #drop variable name and brackets and convert to a list of indices\n",
    "                plt.plot((J.loc[indices_x[2], 'Latitude'], I.loc[indices_x[0], 'Latitude']),\n",
    "                        (J.loc[indices_x[2], 'Longtitude'], I.loc[indices_x[0], 'Longtitude']),\n",
    "                        color = 'lightseagreen', linestyle = \"--\", linewidth = 0.7)\n",
    "                plt.plot((I.loc[indices_x[0], 'Latitude'], K.loc[indices_x[1], 'Latitude']),\n",
    "                        (I.loc[indices_x[0], 'Longtitude'], K.loc[indices_x[1], 'Longtitude']),\n",
    "                        color = 'lightseagreen', linestyle = \"--\", linewidth = 0.7)\n",
    "                plt.annotate(str(int(v.xn)), xy = ((J.loc[indices_x[2], 'Latitude'] + I.loc[indices_x[0], 'Latitude'])/2,\n",
    "                                                (J.loc[indices_x[2], 'Longtitude'] + I.loc[indices_x[0], 'Longtitude'])/2))\n",
    "            else:\n",
    "                index_y = v.varName[4:-1]\n",
    "                plt.scatter(J.loc[index_y, 'Latitude'], J.loc[index_y, 'Longtitude'], color = 'green',\n",
    "                            edgecolors = 'black', s = 100, marker = 'X', label = index_y)\n",
    "    plt.legend(loc = 'center left', bbox_to_anchor = (1, 0.5))\n",
    "    \n",
    "\n",
    "SolutionGraph(I, K, J, model_det)"
   ]
  },
  {
   "cell_type": "markdown",
   "metadata": {},
   "source": [
    "Probabilistic model"
   ]
  },
  {
   "cell_type": "code",
   "execution_count": 105,
   "metadata": {},
   "outputs": [],
   "source": [
    "#Define constants and random variables\n",
    "\n",
    "theta_ran_i = {}\n",
    "for n in list(I.index):\n",
    "    theta_ran_i[n] = poisson(mu[n])\n",
    "\n",
    "p = 0.97\n",
    "\n",
    "l_i = {}\n",
    "for i in theta_ran_i.keys():\n",
    "    l_i[i] = int(theta_ran_i[i].ppf(p))\n",
    "\n",
    "g_i = {}\n",
    "for i in theta_ran_i.keys():\n",
    "    g_i[i] = up_bound * 2\n",
    "\n",
    "IG = []\n",
    "for i in I.index:\n",
    "    for g in range(1, g_i[i] + 1):\n",
    "        IG.append((i, g))\n",
    "\n",
    "I_feasG = []\n",
    "for i in I_feas:\n",
    "    for g in range(1, g_i[i] + 1):\n",
    "        I_feasG.append((i, g))\n",
    "        \n",
    "\n",
    "h_ig = {}\n",
    "for (i, g) in IG:\n",
    "    h_ig[(i, g)] = math.log(theta_ran_i[i].cdf(l_i[i] + g)) - math.log(theta_ran_i[i].cdf(l_i[i] + g - 1))\n",
    "\n",
    "\n",
    "phi = float(math.log(p) - sum(theta_ran_i[i].cdf(l_i[i]) for i in I_feas))"
   ]
  },
  {
   "cell_type": "code",
   "execution_count": 106,
   "metadata": {},
   "outputs": [],
   "source": [
    "model_prob = gp.Model('Probabilistic model without relaxation')\n",
    "\n",
    "x_ikj = model_prob.addVars(I.index, L, vtype = GRB.INTEGER, name = 'x_ikj')\n",
    "y_j = model_prob.addVars(J.index, vtype = GRB.BINARY, name = 'y_j')\n",
    "z_ig = model_prob.addVars(IG, vtype = GRB.BINARY, name = 'z_ig')"
   ]
  },
  {
   "cell_type": "code",
   "execution_count": 107,
   "metadata": {},
   "outputs": [
    {
     "name": "stdout",
     "output_type": "stream",
     "text": [
      "Warning for adding constraints: zero or small (< 1e-13) coefficients, ignored\n"
     ]
    },
    {
     "data": {
      "text/plain": [
       "{('i0', 1): <gurobi.Constr *Awaiting Model Update*>,\n",
       " ('i0', 2): <gurobi.Constr *Awaiting Model Update*>,\n",
       " ('i0', 3): <gurobi.Constr *Awaiting Model Update*>,\n",
       " ('i0', 4): <gurobi.Constr *Awaiting Model Update*>,\n",
       " ('i0', 5): <gurobi.Constr *Awaiting Model Update*>,\n",
       " ('i0', 6): <gurobi.Constr *Awaiting Model Update*>,\n",
       " ('i0', 7): <gurobi.Constr *Awaiting Model Update*>,\n",
       " ('i0', 8): <gurobi.Constr *Awaiting Model Update*>,\n",
       " ('i0', 9): <gurobi.Constr *Awaiting Model Update*>,\n",
       " ('i0', 10): <gurobi.Constr *Awaiting Model Update*>,\n",
       " ('i0', 11): <gurobi.Constr *Awaiting Model Update*>,\n",
       " ('i0', 12): <gurobi.Constr *Awaiting Model Update*>,\n",
       " ('i0', 13): <gurobi.Constr *Awaiting Model Update*>,\n",
       " ('i0', 14): <gurobi.Constr *Awaiting Model Update*>,\n",
       " ('i0', 15): <gurobi.Constr *Awaiting Model Update*>,\n",
       " ('i0', 16): <gurobi.Constr *Awaiting Model Update*>,\n",
       " ('i0', 17): <gurobi.Constr *Awaiting Model Update*>,\n",
       " ('i0', 18): <gurobi.Constr *Awaiting Model Update*>,\n",
       " ('i0', 19): <gurobi.Constr *Awaiting Model Update*>,\n",
       " ('i0', 20): <gurobi.Constr *Awaiting Model Update*>,\n",
       " ('i0', 21): <gurobi.Constr *Awaiting Model Update*>,\n",
       " ('i0', 22): <gurobi.Constr *Awaiting Model Update*>,\n",
       " ('i0', 23): <gurobi.Constr *Awaiting Model Update*>,\n",
       " ('i0', 24): <gurobi.Constr *Awaiting Model Update*>,\n",
       " ('i1', 1): <gurobi.Constr *Awaiting Model Update*>,\n",
       " ('i1', 2): <gurobi.Constr *Awaiting Model Update*>,\n",
       " ('i1', 3): <gurobi.Constr *Awaiting Model Update*>,\n",
       " ('i1', 4): <gurobi.Constr *Awaiting Model Update*>,\n",
       " ('i1', 5): <gurobi.Constr *Awaiting Model Update*>,\n",
       " ('i1', 6): <gurobi.Constr *Awaiting Model Update*>,\n",
       " ('i1', 7): <gurobi.Constr *Awaiting Model Update*>,\n",
       " ('i1', 8): <gurobi.Constr *Awaiting Model Update*>,\n",
       " ('i1', 9): <gurobi.Constr *Awaiting Model Update*>,\n",
       " ('i1', 10): <gurobi.Constr *Awaiting Model Update*>,\n",
       " ('i1', 11): <gurobi.Constr *Awaiting Model Update*>,\n",
       " ('i1', 12): <gurobi.Constr *Awaiting Model Update*>,\n",
       " ('i1', 13): <gurobi.Constr *Awaiting Model Update*>,\n",
       " ('i1', 14): <gurobi.Constr *Awaiting Model Update*>,\n",
       " ('i1', 15): <gurobi.Constr *Awaiting Model Update*>,\n",
       " ('i1', 16): <gurobi.Constr *Awaiting Model Update*>,\n",
       " ('i1', 17): <gurobi.Constr *Awaiting Model Update*>,\n",
       " ('i1', 18): <gurobi.Constr *Awaiting Model Update*>,\n",
       " ('i1', 19): <gurobi.Constr *Awaiting Model Update*>,\n",
       " ('i1', 20): <gurobi.Constr *Awaiting Model Update*>,\n",
       " ('i1', 21): <gurobi.Constr *Awaiting Model Update*>,\n",
       " ('i1', 22): <gurobi.Constr *Awaiting Model Update*>,\n",
       " ('i1', 23): <gurobi.Constr *Awaiting Model Update*>,\n",
       " ('i1', 24): <gurobi.Constr *Awaiting Model Update*>,\n",
       " ('i2', 1): <gurobi.Constr *Awaiting Model Update*>,\n",
       " ('i2', 2): <gurobi.Constr *Awaiting Model Update*>,\n",
       " ('i2', 3): <gurobi.Constr *Awaiting Model Update*>,\n",
       " ('i2', 4): <gurobi.Constr *Awaiting Model Update*>,\n",
       " ('i2', 5): <gurobi.Constr *Awaiting Model Update*>,\n",
       " ('i2', 6): <gurobi.Constr *Awaiting Model Update*>,\n",
       " ('i2', 7): <gurobi.Constr *Awaiting Model Update*>,\n",
       " ('i2', 8): <gurobi.Constr *Awaiting Model Update*>,\n",
       " ('i2', 9): <gurobi.Constr *Awaiting Model Update*>,\n",
       " ('i2', 10): <gurobi.Constr *Awaiting Model Update*>,\n",
       " ('i2', 11): <gurobi.Constr *Awaiting Model Update*>,\n",
       " ('i2', 12): <gurobi.Constr *Awaiting Model Update*>,\n",
       " ('i2', 13): <gurobi.Constr *Awaiting Model Update*>,\n",
       " ('i2', 14): <gurobi.Constr *Awaiting Model Update*>,\n",
       " ('i2', 15): <gurobi.Constr *Awaiting Model Update*>,\n",
       " ('i2', 16): <gurobi.Constr *Awaiting Model Update*>,\n",
       " ('i2', 17): <gurobi.Constr *Awaiting Model Update*>,\n",
       " ('i2', 18): <gurobi.Constr *Awaiting Model Update*>,\n",
       " ('i2', 19): <gurobi.Constr *Awaiting Model Update*>,\n",
       " ('i2', 20): <gurobi.Constr *Awaiting Model Update*>,\n",
       " ('i2', 21): <gurobi.Constr *Awaiting Model Update*>,\n",
       " ('i2', 22): <gurobi.Constr *Awaiting Model Update*>,\n",
       " ('i2', 23): <gurobi.Constr *Awaiting Model Update*>,\n",
       " ('i2', 24): <gurobi.Constr *Awaiting Model Update*>,\n",
       " ('i3', 1): <gurobi.Constr *Awaiting Model Update*>,\n",
       " ('i3', 2): <gurobi.Constr *Awaiting Model Update*>,\n",
       " ('i3', 3): <gurobi.Constr *Awaiting Model Update*>,\n",
       " ('i3', 4): <gurobi.Constr *Awaiting Model Update*>,\n",
       " ('i3', 5): <gurobi.Constr *Awaiting Model Update*>,\n",
       " ('i3', 6): <gurobi.Constr *Awaiting Model Update*>,\n",
       " ('i3', 7): <gurobi.Constr *Awaiting Model Update*>,\n",
       " ('i3', 8): <gurobi.Constr *Awaiting Model Update*>,\n",
       " ('i3', 9): <gurobi.Constr *Awaiting Model Update*>,\n",
       " ('i3', 10): <gurobi.Constr *Awaiting Model Update*>,\n",
       " ('i3', 11): <gurobi.Constr *Awaiting Model Update*>,\n",
       " ('i3', 12): <gurobi.Constr *Awaiting Model Update*>,\n",
       " ('i3', 13): <gurobi.Constr *Awaiting Model Update*>,\n",
       " ('i3', 14): <gurobi.Constr *Awaiting Model Update*>,\n",
       " ('i3', 15): <gurobi.Constr *Awaiting Model Update*>,\n",
       " ('i3', 16): <gurobi.Constr *Awaiting Model Update*>,\n",
       " ('i3', 17): <gurobi.Constr *Awaiting Model Update*>,\n",
       " ('i3', 18): <gurobi.Constr *Awaiting Model Update*>,\n",
       " ('i3', 19): <gurobi.Constr *Awaiting Model Update*>,\n",
       " ('i3', 20): <gurobi.Constr *Awaiting Model Update*>,\n",
       " ('i3', 21): <gurobi.Constr *Awaiting Model Update*>,\n",
       " ('i3', 22): <gurobi.Constr *Awaiting Model Update*>,\n",
       " ('i3', 23): <gurobi.Constr *Awaiting Model Update*>,\n",
       " ('i3', 24): <gurobi.Constr *Awaiting Model Update*>,\n",
       " ('i4', 1): <gurobi.Constr *Awaiting Model Update*>,\n",
       " ('i4', 2): <gurobi.Constr *Awaiting Model Update*>,\n",
       " ('i4', 3): <gurobi.Constr *Awaiting Model Update*>,\n",
       " ('i4', 4): <gurobi.Constr *Awaiting Model Update*>,\n",
       " ('i4', 5): <gurobi.Constr *Awaiting Model Update*>,\n",
       " ('i4', 6): <gurobi.Constr *Awaiting Model Update*>,\n",
       " ('i4', 7): <gurobi.Constr *Awaiting Model Update*>,\n",
       " ('i4', 8): <gurobi.Constr *Awaiting Model Update*>,\n",
       " ('i4', 9): <gurobi.Constr *Awaiting Model Update*>,\n",
       " ('i4', 10): <gurobi.Constr *Awaiting Model Update*>,\n",
       " ('i4', 11): <gurobi.Constr *Awaiting Model Update*>,\n",
       " ('i4', 12): <gurobi.Constr *Awaiting Model Update*>,\n",
       " ('i4', 13): <gurobi.Constr *Awaiting Model Update*>,\n",
       " ('i4', 14): <gurobi.Constr *Awaiting Model Update*>,\n",
       " ('i4', 15): <gurobi.Constr *Awaiting Model Update*>,\n",
       " ('i4', 16): <gurobi.Constr *Awaiting Model Update*>,\n",
       " ('i4', 17): <gurobi.Constr *Awaiting Model Update*>,\n",
       " ('i4', 18): <gurobi.Constr *Awaiting Model Update*>,\n",
       " ('i4', 19): <gurobi.Constr *Awaiting Model Update*>,\n",
       " ('i4', 20): <gurobi.Constr *Awaiting Model Update*>,\n",
       " ('i4', 21): <gurobi.Constr *Awaiting Model Update*>,\n",
       " ('i4', 22): <gurobi.Constr *Awaiting Model Update*>,\n",
       " ('i4', 23): <gurobi.Constr *Awaiting Model Update*>,\n",
       " ('i4', 24): <gurobi.Constr *Awaiting Model Update*>,\n",
       " ('i5', 1): <gurobi.Constr *Awaiting Model Update*>,\n",
       " ('i5', 2): <gurobi.Constr *Awaiting Model Update*>,\n",
       " ('i5', 3): <gurobi.Constr *Awaiting Model Update*>,\n",
       " ('i5', 4): <gurobi.Constr *Awaiting Model Update*>,\n",
       " ('i5', 5): <gurobi.Constr *Awaiting Model Update*>,\n",
       " ('i5', 6): <gurobi.Constr *Awaiting Model Update*>,\n",
       " ('i5', 7): <gurobi.Constr *Awaiting Model Update*>,\n",
       " ('i5', 8): <gurobi.Constr *Awaiting Model Update*>,\n",
       " ('i5', 9): <gurobi.Constr *Awaiting Model Update*>,\n",
       " ('i5', 10): <gurobi.Constr *Awaiting Model Update*>,\n",
       " ('i5', 11): <gurobi.Constr *Awaiting Model Update*>,\n",
       " ('i5', 12): <gurobi.Constr *Awaiting Model Update*>,\n",
       " ('i5', 13): <gurobi.Constr *Awaiting Model Update*>,\n",
       " ('i5', 14): <gurobi.Constr *Awaiting Model Update*>,\n",
       " ('i5', 15): <gurobi.Constr *Awaiting Model Update*>,\n",
       " ('i5', 16): <gurobi.Constr *Awaiting Model Update*>,\n",
       " ('i5', 17): <gurobi.Constr *Awaiting Model Update*>,\n",
       " ('i5', 18): <gurobi.Constr *Awaiting Model Update*>,\n",
       " ('i5', 19): <gurobi.Constr *Awaiting Model Update*>,\n",
       " ('i5', 20): <gurobi.Constr *Awaiting Model Update*>,\n",
       " ('i5', 21): <gurobi.Constr *Awaiting Model Update*>,\n",
       " ('i5', 22): <gurobi.Constr *Awaiting Model Update*>,\n",
       " ('i5', 23): <gurobi.Constr *Awaiting Model Update*>,\n",
       " ('i5', 24): <gurobi.Constr *Awaiting Model Update*>,\n",
       " ('i6', 1): <gurobi.Constr *Awaiting Model Update*>,\n",
       " ('i6', 2): <gurobi.Constr *Awaiting Model Update*>,\n",
       " ('i6', 3): <gurobi.Constr *Awaiting Model Update*>,\n",
       " ('i6', 4): <gurobi.Constr *Awaiting Model Update*>,\n",
       " ('i6', 5): <gurobi.Constr *Awaiting Model Update*>,\n",
       " ('i6', 6): <gurobi.Constr *Awaiting Model Update*>,\n",
       " ('i6', 7): <gurobi.Constr *Awaiting Model Update*>,\n",
       " ('i6', 8): <gurobi.Constr *Awaiting Model Update*>,\n",
       " ('i6', 9): <gurobi.Constr *Awaiting Model Update*>,\n",
       " ('i6', 10): <gurobi.Constr *Awaiting Model Update*>,\n",
       " ('i6', 11): <gurobi.Constr *Awaiting Model Update*>,\n",
       " ('i6', 12): <gurobi.Constr *Awaiting Model Update*>,\n",
       " ('i6', 13): <gurobi.Constr *Awaiting Model Update*>,\n",
       " ('i6', 14): <gurobi.Constr *Awaiting Model Update*>,\n",
       " ('i6', 15): <gurobi.Constr *Awaiting Model Update*>,\n",
       " ('i6', 16): <gurobi.Constr *Awaiting Model Update*>,\n",
       " ('i6', 17): <gurobi.Constr *Awaiting Model Update*>,\n",
       " ('i6', 18): <gurobi.Constr *Awaiting Model Update*>,\n",
       " ('i6', 19): <gurobi.Constr *Awaiting Model Update*>,\n",
       " ('i6', 20): <gurobi.Constr *Awaiting Model Update*>,\n",
       " ('i6', 21): <gurobi.Constr *Awaiting Model Update*>,\n",
       " ('i6', 22): <gurobi.Constr *Awaiting Model Update*>,\n",
       " ('i6', 23): <gurobi.Constr *Awaiting Model Update*>,\n",
       " ('i6', 24): <gurobi.Constr *Awaiting Model Update*>,\n",
       " ('i10', 1): <gurobi.Constr *Awaiting Model Update*>,\n",
       " ('i10', 2): <gurobi.Constr *Awaiting Model Update*>,\n",
       " ('i10', 3): <gurobi.Constr *Awaiting Model Update*>,\n",
       " ('i10', 4): <gurobi.Constr *Awaiting Model Update*>,\n",
       " ('i10', 5): <gurobi.Constr *Awaiting Model Update*>,\n",
       " ('i10', 6): <gurobi.Constr *Awaiting Model Update*>,\n",
       " ('i10', 7): <gurobi.Constr *Awaiting Model Update*>,\n",
       " ('i10', 8): <gurobi.Constr *Awaiting Model Update*>,\n",
       " ('i10', 9): <gurobi.Constr *Awaiting Model Update*>,\n",
       " ('i10', 10): <gurobi.Constr *Awaiting Model Update*>,\n",
       " ('i10', 11): <gurobi.Constr *Awaiting Model Update*>,\n",
       " ('i10', 12): <gurobi.Constr *Awaiting Model Update*>,\n",
       " ('i10', 13): <gurobi.Constr *Awaiting Model Update*>,\n",
       " ('i10', 14): <gurobi.Constr *Awaiting Model Update*>,\n",
       " ('i10', 15): <gurobi.Constr *Awaiting Model Update*>,\n",
       " ('i10', 16): <gurobi.Constr *Awaiting Model Update*>,\n",
       " ('i10', 17): <gurobi.Constr *Awaiting Model Update*>,\n",
       " ('i10', 18): <gurobi.Constr *Awaiting Model Update*>,\n",
       " ('i10', 19): <gurobi.Constr *Awaiting Model Update*>,\n",
       " ('i10', 20): <gurobi.Constr *Awaiting Model Update*>,\n",
       " ('i10', 21): <gurobi.Constr *Awaiting Model Update*>,\n",
       " ('i10', 22): <gurobi.Constr *Awaiting Model Update*>,\n",
       " ('i10', 23): <gurobi.Constr *Awaiting Model Update*>,\n",
       " ('i10', 24): <gurobi.Constr *Awaiting Model Update*>,\n",
       " ('i11', 1): <gurobi.Constr *Awaiting Model Update*>,\n",
       " ('i11', 2): <gurobi.Constr *Awaiting Model Update*>,\n",
       " ('i11', 3): <gurobi.Constr *Awaiting Model Update*>,\n",
       " ('i11', 4): <gurobi.Constr *Awaiting Model Update*>,\n",
       " ('i11', 5): <gurobi.Constr *Awaiting Model Update*>,\n",
       " ('i11', 6): <gurobi.Constr *Awaiting Model Update*>,\n",
       " ('i11', 7): <gurobi.Constr *Awaiting Model Update*>,\n",
       " ('i11', 8): <gurobi.Constr *Awaiting Model Update*>,\n",
       " ('i11', 9): <gurobi.Constr *Awaiting Model Update*>,\n",
       " ('i11', 10): <gurobi.Constr *Awaiting Model Update*>,\n",
       " ('i11', 11): <gurobi.Constr *Awaiting Model Update*>,\n",
       " ('i11', 12): <gurobi.Constr *Awaiting Model Update*>,\n",
       " ('i11', 13): <gurobi.Constr *Awaiting Model Update*>,\n",
       " ('i11', 14): <gurobi.Constr *Awaiting Model Update*>,\n",
       " ('i11', 15): <gurobi.Constr *Awaiting Model Update*>,\n",
       " ('i11', 16): <gurobi.Constr *Awaiting Model Update*>,\n",
       " ('i11', 17): <gurobi.Constr *Awaiting Model Update*>,\n",
       " ('i11', 18): <gurobi.Constr *Awaiting Model Update*>,\n",
       " ('i11', 19): <gurobi.Constr *Awaiting Model Update*>,\n",
       " ('i11', 20): <gurobi.Constr *Awaiting Model Update*>,\n",
       " ('i11', 21): <gurobi.Constr *Awaiting Model Update*>,\n",
       " ('i11', 22): <gurobi.Constr *Awaiting Model Update*>,\n",
       " ('i11', 23): <gurobi.Constr *Awaiting Model Update*>,\n",
       " ('i11', 24): <gurobi.Constr *Awaiting Model Update*>}"
      ]
     },
     "execution_count": 107,
     "metadata": {},
     "output_type": "execute_result"
    }
   ],
   "source": [
    "#Probabilistic constraints\n",
    "\n",
    "model_prob.addConstr((gp.quicksum(h_ig[ig] * z_ig[ig] for ig in I_feasG)) >= phi, name = 'c15')\n",
    "model_prob.addConstrs((gp.quicksum(x_ikj[i, k, j] for (k, j) in N_i[i]) == l_i[i] + gp.quicksum(z_ig) for (i, g) in I_feasG), name = 'c16')"
   ]
  },
  {
   "cell_type": "code",
   "execution_count": 108,
   "metadata": {},
   "outputs": [
    {
     "data": {
      "text/plain": [
       "{}"
      ]
     },
     "execution_count": 108,
     "metadata": {},
     "output_type": "execute_result"
    }
   ],
   "source": [
    "#Same constraints as in the deterministic model\n",
    "\n",
    "model_prob.addConstrs((gp.quicksum(x_ikj[i, k, j] for i in M_kj[(k, j)]) <= q_j[j] * y_j[j] for (k, j) in KJ_feas), name = 'c17')\n",
    "model_prob.addConstrs(((dist_JI[(j, i)] + dist_IK[(i, k)] + dist_KJ[(k, j)]) * y_j[j] <= B\n",
    "                  for (k, j) in N_i[i] for i in M_kj[(k, j)]), name = 'c18')\n",
    "model_prob.addConstrs((dist_JI[(j, i)] * y_j[j] <= S for (k, j) in N_i[i] for i in M_kj[(k, j)]), name = 'c19')"
   ]
  },
  {
   "cell_type": "code",
   "execution_count": 109,
   "metadata": {},
   "outputs": [
    {
     "name": "stdout",
     "output_type": "stream",
     "text": [
      "Gurobi Optimizer version 10.0.3 build v10.0.3rc0 (win64)\n",
      "\n",
      "CPU model: 11th Gen Intel(R) Core(TM) i5-1145G7 @ 2.60GHz, instruction set [SSE2|AVX|AVX2|AVX512]\n",
      "Thread count: 4 physical cores, 8 logical processors, using up to 8 threads\n",
      "\n",
      "Optimize a model with 241 rows, 1601 columns and 78703 nonzeros\n",
      "Model fingerprint: 0xe77ba1a8\n",
      "Variable types: 0 continuous, 1601 integer (461 binary)\n",
      "Coefficient statistics:\n",
      "  Matrix range     [1e-13, 5e+01]\n",
      "  Objective range  [1e+01, 4e+02]\n",
      "  Bounds range     [1e+00, 1e+00]\n",
      "  RHS range        [8e+00, 2e+01]\n",
      "Found heuristic solution: objective 4400.0000000\n",
      "Presolve removed 216 rows and 1555 columns\n",
      "Presolve time: 0.03s\n",
      "Presolved: 25 rows, 46 columns, 75 nonzeros\n",
      "Variable types: 0 continuous, 46 integer (20 binary)\n",
      "\n",
      "Root relaxation: objective 3.333091e+03, 27 iterations, 0.00 seconds (0.00 work units)\n",
      "\n",
      "    Nodes    |    Current Node    |     Objective Bounds      |     Work\n",
      " Expl Unexpl |  Obj  Depth IntInf | Incumbent    BestBd   Gap | It/Node Time\n",
      "\n",
      "     0     0 3333.09091    0    4 4400.00000 3333.09091  24.2%     -    0s\n",
      "H    0     0                    4000.0000000 3333.09091  16.7%     -    0s\n",
      "     0     0     cutoff    0      4000.00000 4000.00000  0.00%     -    0s\n",
      "\n",
      "Cutting planes:\n",
      "  Implied bound: 1\n",
      "  MIR: 1\n",
      "  Flow cover: 9\n",
      "\n",
      "Explored 1 nodes (37 simplex iterations) in 0.05 seconds (0.01 work units)\n",
      "Thread count was 8 (of 8 available processors)\n",
      "\n",
      "Solution count 2: 4000 4400 \n",
      "\n",
      "Optimal solution found (tolerance 1.00e-04)\n",
      "Best objective 4.000000000000e+03, best bound 4.000000000000e+03, gap 0.0000%\n"
     ]
    }
   ],
   "source": [
    "model_prob.setObjective(alpha * gp.quicksum(x_ikj) + beta * gp.quicksum(y_j), GRB.MINIMIZE)\n",
    "model_prob.optimize()"
   ]
  },
  {
   "cell_type": "code",
   "execution_count": 110,
   "metadata": {},
   "outputs": [
    {
     "name": "stdout",
     "output_type": "stream",
     "text": [
      "Number of solutions found: 2\n",
      "3490 \n",
      "x_ikj[i0,k0,j17] 13\n",
      "x_ikj[i1,k0,j97] 2\n",
      "x_ikj[i2,k0,j96] 7\n",
      "x_ikj[i3,k0,j18] 7\n",
      "x_ikj[i4,k0,j17] 8\n",
      "x_ikj[i5,k0,j39] 10\n",
      "x_ikj[i6,k0,j14] 6\n",
      "x_ikj[i10,k0,j70] 12\n",
      "x_ikj[i11,k0,j97] 4\n",
      "y_j[j14] 1\n",
      "y_j[j17] 1\n",
      "y_j[j18] 1\n",
      "y_j[j39] 1\n",
      "y_j[j70] 1\n",
      "y_j[j96] 1\n",
      "y_j[j97] 1\n",
      "\n",
      "\n",
      "3890 \n",
      "x_ikj[i0,k0,j17] 13\n",
      "x_ikj[i1,k0,j36] 2\n",
      "x_ikj[i2,k0,j56] 7\n",
      "x_ikj[i3,k0,j18] 7\n",
      "x_ikj[i4,k0,j17] 8\n",
      "x_ikj[i5,k0,j39] 10\n",
      "x_ikj[i6,k0,j14] 6\n",
      "x_ikj[i10,k0,j70] 12\n",
      "x_ikj[i11,k0,j97] 4\n",
      "y_j[j14] 1\n",
      "y_j[j17] 1\n",
      "y_j[j18] 1\n",
      "y_j[j36] 1\n",
      "y_j[j39] 1\n",
      "y_j[j56] 1\n",
      "y_j[j70] 1\n",
      "y_j[j97] 1\n",
      "\n",
      "\n",
      "\n",
      "\n"
     ]
    }
   ],
   "source": [
    "ListSolution(model_prob)"
   ]
  },
  {
   "cell_type": "code",
   "execution_count": 111,
   "metadata": {},
   "outputs": [
    {
     "data": {
      "image/png": "[encoded data removed]",
      "text/plain": [
       "<Figure size 432x288 with 1 Axes>"
      ]
     },
     "metadata": {
      "needs_background": "light"
     },
     "output_type": "display_data"
    }
   ],
   "source": [
    "SolutionGraph(I, K, J, model_prob)"
   ]
  },
  {
   "cell_type": "code",
   "execution_count": 112,
   "metadata": {},
   "outputs": [
    {
     "data": {
      "image/png": "[encoded data removed]",
      "text/plain": [
       "<Figure size 432x288 with 1 Axes>"
      ]
     },
     "metadata": {
      "needs_background": "light"
     },
     "output_type": "display_data"
    }
   ],
   "source": [
    "SolutionGraph(I, K, J, model_det)"
   ]
  }
 ],
 "metadata": {
  "kernelspec": {
   "display_name": "base",
   "language": "python",
   "name": "python3"
  },
  "language_info": {
   "codemirror_mode": {
    "name": "ipython",
    "version": 3
   },
   "file_extension": ".py",
   "mimetype": "text/x-python",
   "name": "python",
   "nbconvert_exporter": "python",
   "pygments_lexer": "ipython3",
   "version": "3.9.12"
  }
 },
 "nbformat": 4,
 "nbformat_minor": 2
}
