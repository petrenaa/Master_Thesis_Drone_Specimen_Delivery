{
 "cells": [
  {
   "cell_type": "code",
   "execution_count": 256,
   "metadata": {},
   "outputs": [],
   "source": [
    "import pandas as pd\n",
    "import numpy as np\n",
    "import matplotlib.pyplot as plt\n",
    "import math\n",
    "import itertools\n",
    "import random\n",
    "random.seed(108448)\n",
    "from scipy.stats import poisson\n",
    "\n",
    "#%pip install gurobipy\n",
    "import gurobipy as gp\n",
    "from gurobipy import GRB"
   ]
  },
  {
   "cell_type": "code",
   "execution_count": 257,
   "metadata": {},
   "outputs": [],
   "source": [
    "#Define the number of elememts in each set I, J, K\n",
    "i_num = 12\n",
    "k_num = 1\n",
    "j_num = 100 #Without I and K, so real j_num_real = j_num + i_num + k_num\n",
    "\n",
    "#Define empty data frames\n",
    "I = pd.DataFrame(columns = ['Point number', 'Latitude', 'Longtitude'])\n",
    "J = pd.DataFrame(columns = ['Point number', 'Latitude', 'Longtitude'])\n",
    "K = pd.DataFrame(columns = ['Point number', 'Latitude', 'Longtitude'])\n"
   ]
  },
  {
   "cell_type": "code",
   "execution_count": 258,
   "metadata": {},
   "outputs": [
    {
     "data": {
      "text/plain": [
       "Index(['i0', 'i1', 'i2', 'i3', 'i4', 'i5', 'i6', 'i7', 'i8', 'i9', 'i10',\n",
       "       'i11'],\n",
       "      dtype='object', name='Point number')"
      ]
     },
     "execution_count": 258,
     "metadata": {},
     "output_type": "execute_result"
    }
   ],
   "source": [
    "#Define sets of I, J, K, where J contains I and K\n",
    "\n",
    "for i in range(i_num):\n",
    "    I.loc[i, 'Point number'] = 'i'+ str(i)\n",
    "    I.loc[i, 'Latitude'] = round(random.uniform(0, 100), 4)\n",
    "    I.loc[i, 'Longtitude'] = round(random.uniform(0, 100), 4)\n",
    "\n",
    "I.index = I['Point number']\n",
    "    \n",
    "    \n",
    "for k in range(k_num):\n",
    "    K.loc[k, 'Point number'] = 'k'+ str(k)\n",
    "    K.loc[k, 'Latitude'] = round(random.uniform(0, 100), 4)\n",
    "    K.loc[k, 'Longtitude'] = round(random.uniform(0, 100), 4)\n",
    "\n",
    "K.index = K['Point number']\n",
    "\n",
    "\n",
    "for j in range(j_num):\n",
    "    J.loc[j, 'Point number'] = 'j'+ str(j)\n",
    "    J.loc[j, 'Latitude'] = round(random.uniform(0, 100), 4)\n",
    "    J.loc[j, 'Longtitude'] = round(random.uniform(0, 100), 4)\n",
    "\n",
    "J.index = J['Point number'] \n",
    "J = pd.concat([J, K], axis = 0) #Include K to J\n",
    "I.index"
   ]
  },
  {
   "cell_type": "code",
   "execution_count": 259,
   "metadata": {},
   "outputs": [
    {
     "data": {
      "text/plain": [
       "<matplotlib.legend.Legend at 0x21b46ca14f0>"
      ]
     },
     "execution_count": 259,
     "metadata": {},
     "output_type": "execute_result"
    },
    {
     "data": {
      "image/png": "[encoded data removed]",
      "text/plain": [
       "<Figure size 432x288 with 1 Axes>"
      ]
     },
     "metadata": {
      "needs_background": "light"
     },
     "output_type": "display_data"
    }
   ],
   "source": [
    "plt.scatter(J['Latitude'], J['Longtitude'], color = 'blue', edgecolors = 'black',\n",
    "            marker = 'o', s = 30, label = 'J')\n",
    "plt.scatter(I['Latitude'], I['Longtitude'], color = 'gold', edgecolors = 'black',\n",
    "            marker = 's', s = 50, label = 'I')\n",
    "plt.scatter(K['Latitude'], K['Longtitude'], color = 'red', edgecolors = 'black',\n",
    "            marker = 'd', s = 90, label = 'K')\n",
    "plt.legend(loc='center left', bbox_to_anchor=(1, 0.5))"
   ]
  },
  {
   "cell_type": "code",
   "execution_count": 260,
   "metadata": {},
   "outputs": [],
   "source": [
    "#Define constants\n",
    "\n",
    "B = 100\n",
    "S = 50\n",
    "alpha = 10\n",
    "beta = 400\n",
    "q_j = {j: 50 for j in J.index}\n",
    "mu = 10"
   ]
  },
  {
   "cell_type": "markdown",
   "metadata": {},
   "source": [
    "Deterministic model"
   ]
  },
  {
   "cell_type": "code",
   "execution_count": 261,
   "metadata": {},
   "outputs": [
    {
     "data": {
      "text/plain": [
       "{'i0': 10,\n",
       " 'i1': 16,\n",
       " 'i2': 9,\n",
       " 'i3': 7,\n",
       " 'i4': 12,\n",
       " 'i5': 17,\n",
       " 'i6': 9,\n",
       " 'i7': 12,\n",
       " 'i8': 14,\n",
       " 'i9': 6,\n",
       " 'i10': 7,\n",
       " 'i11': 17}"
      ]
     },
     "execution_count": 261,
     "metadata": {},
     "output_type": "execute_result"
    }
   ],
   "source": [
    "theta_det = {}\n",
    "for n in range(0, len(list(I.index))):\n",
    "    theta_det[I.index[n]] = list(poisson.rvs(mu, size = 1))[0]\n",
    "theta_det"
   ]
  },
  {
   "cell_type": "code",
   "execution_count": 262,
   "metadata": {},
   "outputs": [
    {
     "data": {
      "text/plain": [
       "{('k0', 'j0'): 19.61489348454384,\n",
       " ('k0', 'j1'): 2.8274921838972396,\n",
       " ('k0', 'j2'): 51.52356722529992,\n",
       " ('k0', 'j3'): 38.31131457415681,\n",
       " ('k0', 'j4'): 71.08473342040469,\n",
       " ('k0', 'j5'): 78.34087655828213,\n",
       " ('k0', 'j6'): 103.87980460522631,\n",
       " ('k0', 'j7'): 54.57864290150498,\n",
       " ('k0', 'j8'): 54.55157010627651,\n",
       " ('k0', 'j9'): 65.69270593673242,\n",
       " ('k0', 'j10'): 31.11795051124029,\n",
       " ('k0', 'j11'): 49.23520626868541,\n",
       " ('k0', 'j12'): 94.27441108386728,\n",
       " ('k0', 'j13'): 77.25796481043233,\n",
       " ('k0', 'j14'): 75.39997612101745,\n",
       " ('k0', 'j15'): 65.14444738064786,\n",
       " ('k0', 'j16'): 75.00547352680336,\n",
       " ('k0', 'j17'): 85.74494895100236,\n",
       " ('k0', 'j18'): 65.55832460488904,\n",
       " ('k0', 'j19'): 79.39515680323328,\n",
       " ('k0', 'j20'): 46.49178213340503,\n",
       " ('k0', 'j21'): 26.570301804834653,\n",
       " ('k0', 'j22'): 31.480245159464683,\n",
       " ('k0', 'j23'): 84.28001341243368,\n",
       " ('k0', 'j24'): 69.51798803072482,\n",
       " ('k0', 'j25'): 26.180062515777152,\n",
       " ('k0', 'j26'): 40.90391831524212,\n",
       " ('k0', 'j27'): 70.46419477528994,\n",
       " ('k0', 'j28'): 60.46544023961125,\n",
       " ('k0', 'j29'): 105.62091813670244,\n",
       " ('k0', 'j30'): 20.914910606789597,\n",
       " ('k0', 'j31'): 21.364687199441978,\n",
       " ('k0', 'j32'): 77.62526113798265,\n",
       " ('k0', 'j33'): 78.59657765742729,\n",
       " ('k0', 'j34'): 77.4512330890219,\n",
       " ('k0', 'j35'): 55.48291311241687,\n",
       " ('k0', 'j36'): 51.27662059457507,\n",
       " ('k0', 'j37'): 51.91727611441108,\n",
       " ('k0', 'j38'): 42.61895660958865,\n",
       " ('k0', 'j39'): 64.03833126183099,\n",
       " ('k0', 'j40'): 84.01448977908512,\n",
       " ('k0', 'j41'): 38.34366458138815,\n",
       " ('k0', 'j42'): 10.893640906969534,\n",
       " ('k0', 'j43'): 16.49061660611876,\n",
       " ('k0', 'j44'): 96.34782637470344,\n",
       " ('k0', 'j45'): 60.280914233362445,\n",
       " ('k0', 'j46'): 90.64173033856976,\n",
       " ('k0', 'j47'): 60.54957391922754,\n",
       " ('k0', 'j48'): 41.10719006074241,\n",
       " ('k0', 'j49'): 63.4777560197271,\n",
       " ('k0', 'j50'): 62.70806729448772,\n",
       " ('k0', 'j51'): 86.98004296906272,\n",
       " ('k0', 'j52'): 61.99467044133713,\n",
       " ('k0', 'j53'): 17.738924529407072,\n",
       " ('k0', 'j54'): 81.2766214953599,\n",
       " ('k0', 'j55'): 38.53688878801712,\n",
       " ('k0', 'j56'): 64.43190702447042,\n",
       " ('k0', 'j57'): 95.2911702273091,\n",
       " ('k0', 'j58'): 68.99946990586231,\n",
       " ('k0', 'j59'): 80.18599054460822,\n",
       " ('k0', 'j60'): 68.03222562910904,\n",
       " ('k0', 'j61'): 14.828082145038172,\n",
       " ('k0', 'j62'): 90.05625060843916,\n",
       " ('k0', 'j63'): 28.3108122900068,\n",
       " ('k0', 'j64'): 105.70273512648572,\n",
       " ('k0', 'j65'): 56.7733678821329,\n",
       " ('k0', 'j66'): 67.00348513831203,\n",
       " ('k0', 'j67'): 80.58180136792674,\n",
       " ('k0', 'j68'): 69.41030586886936,\n",
       " ('k0', 'j69'): 10.402692378898847,\n",
       " ('k0', 'j70'): 87.40668012211653,\n",
       " ('k0', 'j71'): 38.7382941906326,\n",
       " ('k0', 'j72'): 2.060670048794809,\n",
       " ('k0', 'j73'): 45.273537067474635,\n",
       " ('k0', 'j74'): 67.74241526289124,\n",
       " ('k0', 'j75'): 29.77215799232565,\n",
       " ('k0', 'j76'): 49.2551314294257,\n",
       " ('k0', 'j77'): 31.00127525151183,\n",
       " ('k0', 'j78'): 79.965968122008,\n",
       " ('k0', 'j79'): 37.89687965268381,\n",
       " ('k0', 'j80'): 49.67130018129181,\n",
       " ('k0', 'j81'): 32.71216703384231,\n",
       " ('k0', 'j82'): 28.705341023927932,\n",
       " ('k0', 'j83'): 65.17775310288012,\n",
       " ('k0', 'j84'): 77.97916361778958,\n",
       " ('k0', 'j85'): 64.77434201672757,\n",
       " ('k0', 'j86'): 33.58858553884041,\n",
       " ('k0', 'j87'): 101.4307383950743,\n",
       " ('k0', 'j88'): 83.04224698609738,\n",
       " ('k0', 'j89'): 67.62479026192983,\n",
       " ('k0', 'j90'): 80.60763001900007,\n",
       " ('k0', 'j91'): 103.72661899984978,\n",
       " ('k0', 'j92'): 72.52060281326955,\n",
       " ('k0', 'j93'): 57.211167282708004,\n",
       " ('k0', 'j94'): 54.97693861993408,\n",
       " ('k0', 'j95'): 74.56709665006409,\n",
       " ('k0', 'j96'): 13.209110420463592,\n",
       " ('k0', 'j97'): 22.209647253839943,\n",
       " ('k0', 'j98'): 82.1892405374937,\n",
       " ('k0', 'j99'): 83.55507006477822,\n",
       " ('k0', 'k0'): 0.0}"
      ]
     },
     "execution_count": 262,
     "metadata": {},
     "output_type": "execute_result"
    }
   ],
   "source": [
    "#Define distance matrices\n",
    "\n",
    "def distance(point1, PointsSet1, point2, PointsSet2):\n",
    "    c1 = np.array((PointsSet1.loc[point1, 'Latitude'], PointsSet1.loc[point1, 'Longtitude']))\n",
    "    c2 = np.array((PointsSet2.loc[point2, 'Latitude'], PointsSet2.loc[point2, 'Longtitude']))\n",
    "    return np.linalg.norm(c1-c2)\n",
    "\n",
    "dist_JI = {(c1, c2): distance(c1, J, c2, I)for c1, c2 in itertools.product(J.index, I.index)}\n",
    "dist_IK = {(c1, c2): distance(c1, I, c2, K)for c1, c2 in itertools.product(I.index, K.index)}\n",
    "dist_KJ = {(c1, c2): distance(c1, K, c2, J)for c1, c2 in itertools.product(K.index, J.index)}\n",
    " \n",
    "dist_KJ\n"
   ]
  },
  {
   "cell_type": "code",
   "execution_count": 263,
   "metadata": {},
   "outputs": [
    {
     "data": {
      "text/plain": [
       "[('k0', 'j0'),\n",
       " ('k0', 'j1'),\n",
       " ('k0', 'j3'),\n",
       " ('k0', 'j10'),\n",
       " ('k0', 'j11'),\n",
       " ('k0', 'j20'),\n",
       " ('k0', 'j21'),\n",
       " ('k0', 'j22'),\n",
       " ('k0', 'j25'),\n",
       " ('k0', 'j26'),\n",
       " ('k0', 'j30'),\n",
       " ('k0', 'j31'),\n",
       " ('k0', 'j38'),\n",
       " ('k0', 'j41'),\n",
       " ('k0', 'j42'),\n",
       " ('k0', 'j43'),\n",
       " ('k0', 'j48'),\n",
       " ('k0', 'j53'),\n",
       " ('k0', 'j55'),\n",
       " ('k0', 'j61'),\n",
       " ('k0', 'j63'),\n",
       " ('k0', 'j69'),\n",
       " ('k0', 'j71'),\n",
       " ('k0', 'j72'),\n",
       " ('k0', 'j73'),\n",
       " ('k0', 'j75'),\n",
       " ('k0', 'j76'),\n",
       " ('k0', 'j77'),\n",
       " ('k0', 'j79'),\n",
       " ('k0', 'j80'),\n",
       " ('k0', 'j81'),\n",
       " ('k0', 'j82'),\n",
       " ('k0', 'j86'),\n",
       " ('k0', 'j96'),\n",
       " ('k0', 'j97'),\n",
       " ('k0', 'k0')]"
      ]
     },
     "execution_count": 263,
     "metadata": {},
     "output_type": "execute_result"
    }
   ],
   "source": [
    "#Define set L\n",
    "L = list()\n",
    "for k, j in itertools.product(K.index, J.index):\n",
    "    if dist_KJ[(k, j)] <= 0.5*B:\n",
    "        L.append((k, j))\n",
    "        \n",
    "L"
   ]
  },
  {
   "cell_type": "code",
   "execution_count": 264,
   "metadata": {},
   "outputs": [
    {
     "data": {
      "text/plain": [
       "[('k0', 'j0'),\n",
       " ('k0', 'j1'),\n",
       " ('k0', 'j3'),\n",
       " ('k0', 'j10'),\n",
       " ('k0', 'j20'),\n",
       " ('k0', 'j21'),\n",
       " ('k0', 'j22'),\n",
       " ('k0', 'j25'),\n",
       " ('k0', 'j26'),\n",
       " ('k0', 'j30'),\n",
       " ('k0', 'j31'),\n",
       " ('k0', 'j38'),\n",
       " ('k0', 'j41'),\n",
       " ('k0', 'j42'),\n",
       " ('k0', 'j43'),\n",
       " ('k0', 'j48'),\n",
       " ('k0', 'j53'),\n",
       " ('k0', 'j55'),\n",
       " ('k0', 'j61'),\n",
       " ('k0', 'j63'),\n",
       " ('k0', 'j69'),\n",
       " ('k0', 'j71'),\n",
       " ('k0', 'j72'),\n",
       " ('k0', 'j73'),\n",
       " ('k0', 'j75'),\n",
       " ('k0', 'j77'),\n",
       " ('k0', 'j79'),\n",
       " ('k0', 'j81'),\n",
       " ('k0', 'j82'),\n",
       " ('k0', 'j86'),\n",
       " ('k0', 'j96'),\n",
       " ('k0', 'j97'),\n",
       " ('k0', 'k0')]"
      ]
     },
     "execution_count": 264,
     "metadata": {},
     "output_type": "execute_result"
    }
   ],
   "source": [
    "#Define sets M_kj\n",
    "\n",
    "M_kj = {}\n",
    "M_interim = []\n",
    "\n",
    "for (k, j) in L:\n",
    "    for i in I.index:\n",
    "        if dist_JI[j, i] <= S:\n",
    "            if dist_JI[j, i] + dist_IK[i, k] + dist_KJ[k, j] <= B:\n",
    "                M_interim.append(i)\n",
    "    M_kj[(k, j)] = M_interim\n",
    "    M_interim = []\n",
    "\n",
    "M_kj_interim = {key : val for key, val in M_kj.items() if val != []}  \n",
    "\n",
    "KJ_feas = list(M_kj_interim.keys())\n",
    "KJ_feas\n"
   ]
  },
  {
   "cell_type": "code",
   "execution_count": 265,
   "metadata": {},
   "outputs": [
    {
     "data": {
      "text/plain": [
       "['i0', 'i3', 'i4', 'i5', 'i7', 'i10']"
      ]
     },
     "execution_count": 265,
     "metadata": {},
     "output_type": "execute_result"
    }
   ],
   "source": [
    "#Define sets N_i\n",
    "\n",
    "N_i = {}\n",
    "N_interim = []\n",
    "\n",
    "for i in I.index:\n",
    "    for (k, j) in L:\n",
    "        if dist_JI[j, i] <= S:\n",
    "            if dist_JI[j, i] + dist_IK[i, k] + dist_KJ[k, j] <= B:\n",
    "                N_interim.append((k, j))\n",
    "    N_i[i] = N_interim\n",
    "    N_interim = []\n",
    "    \n",
    "N_i_interim = {key : val for key, val in N_i.items() if val != []}   \n",
    " \n",
    "I_feas = list(N_i_interim.keys())\n",
    "I_feas"
   ]
  },
  {
   "cell_type": "code",
   "execution_count": 266,
   "metadata": {},
   "outputs": [],
   "source": [
    "model_det = gp.Model('Location-allocation problem 1')"
   ]
  },
  {
   "cell_type": "code",
   "execution_count": 267,
   "metadata": {},
   "outputs": [],
   "source": [
    "x_ikj = model_det.addVars(I.index, L, vtype = GRB.INTEGER, name = 'x_ikj')\n",
    "y_j = model_det.addVars(J.index, vtype = GRB.BINARY, name = 'y_j')"
   ]
  },
  {
   "cell_type": "code",
   "execution_count": 268,
   "metadata": {},
   "outputs": [
    {
     "data": {
      "text/plain": [
       "{}"
      ]
     },
     "execution_count": 268,
     "metadata": {},
     "output_type": "execute_result"
    }
   ],
   "source": [
    "model_det.addConstrs((gp.quicksum(x_ikj[i, k, j] for (k, j) in N_i[i]) >= theta_det[i] for i in I_feas), name = 'c2')\n",
    "model_det.addConstrs((gp.quicksum(x_ikj[i, k, j] for i in M_kj[(k, j)]) <= q_j[j] * y_j[j] for (k, j) in KJ_feas), name = 'c4')\n",
    "model_det.addConstrs(((dist_JI[(j, i)] + dist_IK[(i, k)] + dist_KJ[(k, j)]) * y_j[j] <= B\n",
    "                  for (k, j) in N_i[i] for i in M_kj[(k, j)]), name = 'c5')\n",
    "model_det.addConstrs((dist_JI[(j, i)] * y_j[j] <= S for (k, j) in N_i[i] for i in M_kj[(k, j)]), name = 'c6')"
   ]
  },
  {
   "cell_type": "code",
   "execution_count": 269,
   "metadata": {},
   "outputs": [],
   "source": [
    "model_det.setObjective(alpha * gp.quicksum(x_ikj) + beta * gp.quicksum(y_j), GRB.MINIMIZE)"
   ]
  },
  {
   "cell_type": "code",
   "execution_count": 270,
   "metadata": {},
   "outputs": [
    {
     "name": "stdout",
     "output_type": "stream",
     "text": [
      "Gurobi Optimizer version 10.0.3 build v10.0.3rc0 (win64)\n",
      "\n",
      "CPU model: 11th Gen Intel(R) Core(TM) i5-1145G7 @ 2.60GHz, instruction set [SSE2|AVX|AVX2|AVX512]\n",
      "Thread count: 4 physical cores, 8 logical processors, using up to 8 threads\n",
      "\n",
      "Optimize a model with 39 rows, 533 columns and 283 nonzeros\n",
      "Model fingerprint: 0xb3fb662e\n",
      "Variable types: 0 continuous, 533 integer (101 binary)\n",
      "Coefficient statistics:\n",
      "  Matrix range     [1e+00, 5e+01]\n",
      "  Objective range  [1e+01, 4e+02]\n",
      "  Bounds range     [1e+00, 1e+00]\n",
      "  RHS range        [7e+00, 2e+01]\n",
      "Found heuristic solution: objective 3050.0000000\n",
      "Presolve removed 0 rows and 375 columns\n",
      "Presolve time: 0.00s\n",
      "Presolved: 39 rows, 158 columns, 283 nonzeros\n",
      "Variable types: 0 continuous, 158 integer (33 binary)\n",
      "\n",
      "Root relaxation: objective 1.170000e+03, 63 iterations, 0.00 seconds (0.00 work units)\n",
      "\n",
      "    Nodes    |    Current Node    |     Objective Bounds      |     Work\n",
      " Expl Unexpl |  Obj  Depth IntInf | Incumbent    BestBd   Gap | It/Node Time\n",
      "\n",
      "     0     0 1170.00000    0    4 3050.00000 1170.00000  61.6%     -    0s\n",
      "H    0     0                    2250.0000000 1170.00000  48.0%     -    0s\n",
      "H    0     0                    1850.0000000 1170.00000  36.8%     -    0s\n",
      "H    0     0                    1450.0000000 1170.00000  19.3%     -    0s\n",
      "     0     0 1215.21739    0   10 1450.00000 1215.21739  16.2%     -    0s\n",
      "     0     0 1450.00000    0    9 1450.00000 1450.00000  0.00%     -    0s\n",
      "\n",
      "Cutting planes:\n",
      "  Implied bound: 3\n",
      "  Network: 2\n",
      "  Relax-and-lift: 2\n",
      "\n",
      "Explored 1 nodes (100 simplex iterations) in 0.03 seconds (0.00 work units)\n",
      "Thread count was 8 (of 8 available processors)\n",
      "\n",
      "Solution count 4: 1450 1850 2250 3050 \n",
      "\n",
      "Optimal solution found (tolerance 1.00e-04)\n",
      "Best objective 1.450000000000e+03, best bound 1.450000000000e+03, gap 0.0000%\n"
     ]
    }
   ],
   "source": [
    "model_det.optimize()"
   ]
  },
  {
   "cell_type": "code",
   "execution_count": 271,
   "metadata": {},
   "outputs": [
    {
     "name": "stdout",
     "output_type": "stream",
     "text": [
      "Number of solutions found: 4\n",
      "1450 \n",
      "x_ikj[i0,k0,j53] 10\n",
      "x_ikj[i3,k0,j21] 7\n",
      "x_ikj[i4,k0,j53] 12\n",
      "x_ikj[i5,k0,j21] 17\n",
      "x_ikj[i7,k0,j21] 12\n",
      "x_ikj[i10,k0,j21] 7\n",
      "y_j[j21] 1\n",
      "y_j[j53] 1\n",
      "\n",
      "\n",
      "\n",
      "\n"
     ]
    }
   ],
   "source": [
    "nSolutions = model_det.SolCount\n",
    "print('Number of solutions found: ' + str(nSolutions))\n",
    "#for e in range(nSolutions):\n",
    "for iter2 in range(1):\n",
    "        model_det.setParam(GRB.Param.SolutionNumber, iter2)\n",
    "        print('%g ' % model_det.PoolObjVal, end='\\n')\n",
    "        for v in model_det.getVars():\n",
    "             if v.xn > 0:\n",
    "                   print ('%s %g' % (v.varName, v.Xn))\n",
    "        print(\"\\n\")\n",
    "print(\"\\n\")"
   ]
  },
  {
   "cell_type": "code",
   "execution_count": 272,
   "metadata": {},
   "outputs": [
    {
     "data": {
      "text/plain": [
       "<matplotlib.legend.Legend at 0x21b46afdb50>"
      ]
     },
     "execution_count": 272,
     "metadata": {},
     "output_type": "execute_result"
    },
    {
     "data": {
      "image/png": "[encoded data removed]",
      "text/plain": [
       "<Figure size 432x288 with 1 Axes>"
      ]
     },
     "metadata": {
      "needs_background": "light"
     },
     "output_type": "display_data"
    }
   ],
   "source": [
    "# plt.scatter(J['Latitude'], J['Longtitude'], color = 'blue', edgecolors = 'black',\n",
    "#             marker = 'o', s = 30, label = 'J')\n",
    "plt.scatter(I['Latitude'], I['Longtitude'], color = 'gold', edgecolors = 'black',\n",
    "            marker = 's', s = 50, label = 'I')\n",
    "plt.scatter(K['Latitude'], K['Longtitude'], color = 'red', edgecolors = 'black',\n",
    "            marker = 'd', s = 90, label = 'K')\n",
    "\n",
    "\n",
    "for v in model_det.getVars():\n",
    "    if v.xn > 0:\n",
    "        if v.varName.startswith('x_ikj'):\n",
    "            indices_x = v.varName[6:-1].split(',') #drop variable name and brackets and convert to a list of indices\n",
    "            plt.plot((J.loc[indices_x[2], 'Latitude'], I.loc[indices_x[0], 'Latitude']),\n",
    "                     (J.loc[indices_x[2], 'Longtitude'], I.loc[indices_x[0], 'Longtitude']),\n",
    "                     color = 'lightseagreen', linestyle = \"--\")\n",
    "            plt.plot((I.loc[indices_x[0], 'Latitude'], K.loc[indices_x[1], 'Latitude']),\n",
    "                     (I.loc[indices_x[0], 'Longtitude'], K.loc[indices_x[1], 'Longtitude']),\n",
    "                     color = 'lightseagreen', linestyle = \"--\")\n",
    "            plt.annotate(str(int(v.xn)), xy = ((J.loc[indices_x[2], 'Latitude'] + I.loc[indices_x[0], 'Latitude'])/2,\n",
    "                                               (J.loc[indices_x[2], 'Longtitude'] + I.loc[indices_x[0], 'Longtitude'])/2))\n",
    "        else:\n",
    "            index_y = v.varName[4:-1]\n",
    "            plt.scatter(J.loc[index_y, 'Latitude'], J.loc[index_y, 'Longtitude'], color = 'green',\n",
    "                        edgecolors = 'black', s = 100, marker = 'X', label = index_y)\n",
    "        \n",
    "            \n",
    "\n",
    "plt.legend(loc = 'center left', bbox_to_anchor = (1, 0.5))"
   ]
  },
  {
   "cell_type": "markdown",
   "metadata": {},
   "source": [
    "Probabilistic model"
   ]
  },
  {
   "cell_type": "code",
   "execution_count": 273,
   "metadata": {},
   "outputs": [
    {
     "data": {
      "text/plain": [
       "<scipy.stats._distn_infrastructure.rv_frozen at 0x21b45593e80>"
      ]
     },
     "execution_count": 273,
     "metadata": {},
     "output_type": "execute_result"
    }
   ],
   "source": [
    "theta_ran = poisson(mu)\n",
    "theta_ran"
   ]
  }
 ],
 "metadata": {
  "kernelspec": {
   "display_name": "base",
   "language": "python",
   "name": "python3"
  },
  "language_info": {
   "codemirror_mode": {
    "name": "ipython",
    "version": 3
   },
   "file_extension": ".py",
   "mimetype": "text/x-python",
   "name": "python",
   "nbconvert_exporter": "python",
   "pygments_lexer": "ipython3",
   "version": "3.9.12"
  }
 },
 "nbformat": 4,
 "nbformat_minor": 2
}
