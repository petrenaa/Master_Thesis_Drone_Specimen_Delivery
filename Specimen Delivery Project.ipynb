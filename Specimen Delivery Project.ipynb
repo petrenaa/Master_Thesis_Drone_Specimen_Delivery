{
 "cells": [
  {
   "cell_type": "code",
   "execution_count": 292,
   "metadata": {},
   "outputs": [],
   "source": [
    "import pandas as pd\n",
    "import numpy as np\n",
    "import matplotlib.pyplot as plt\n",
    "import math\n",
    "import itertools\n",
    "import random\n",
    "random.seed(108448)\n",
    "from scipy.stats import poisson\n",
    "\n",
    "#%pip install gurobipy\n",
    "import gurobipy as gp\n",
    "from gurobipy import GRB"
   ]
  },
  {
   "cell_type": "code",
   "execution_count": 293,
   "metadata": {},
   "outputs": [],
   "source": [
    "#Define the number of elememts in each set I, J, K\n",
    "i_num = 12\n",
    "k_num = 2\n",
    "j_num = 100 #Without I and K, so real j_num_real = j_num + i_num + k_num\n",
    "\n",
    "#Define empty data frames\n",
    "I = pd.DataFrame(columns = ['Point number', 'Latitude', 'Longtitude'])\n",
    "J = pd.DataFrame(columns = ['Point number', 'Latitude', 'Longtitude'])\n",
    "K = pd.DataFrame(columns = ['Point number', 'Latitude', 'Longtitude'])\n"
   ]
  },
  {
   "cell_type": "code",
   "execution_count": 294,
   "metadata": {},
   "outputs": [
    {
     "data": {
      "text/plain": [
       "Index(['i0', 'i1', 'i2', 'i3', 'i4', 'i5', 'i6', 'i7', 'i8', 'i9', 'i10',\n",
       "       'i11'],\n",
       "      dtype='object', name='Point number')"
      ]
     },
     "execution_count": 294,
     "metadata": {},
     "output_type": "execute_result"
    }
   ],
   "source": [
    "#Define sets of I, J, K, where J contains I and K\n",
    "\n",
    "for i in range(i_num):\n",
    "    I.loc[i, 'Point number'] = 'i'+ str(i)\n",
    "    I.loc[i, 'Latitude'] = round(random.uniform(0, 100), 4)\n",
    "    I.loc[i, 'Longtitude'] = round(random.uniform(0, 100), 4)\n",
    "\n",
    "I.index = I['Point number']\n",
    "    \n",
    "    \n",
    "for k in range(k_num):\n",
    "    K.loc[k, 'Point number'] = 'k'+ str(k)\n",
    "    K.loc[k, 'Latitude'] = round(random.uniform(0, 100), 4)\n",
    "    K.loc[k, 'Longtitude'] = round(random.uniform(0, 100), 4)\n",
    "\n",
    "K.index = K['Point number']\n",
    "\n",
    "\n",
    "for j in range(j_num):\n",
    "    J.loc[j, 'Point number'] = 'j'+ str(j)\n",
    "    J.loc[j, 'Latitude'] = round(random.uniform(0, 100), 4)\n",
    "    J.loc[j, 'Longtitude'] = round(random.uniform(0, 100), 4)\n",
    "\n",
    "J.index = J['Point number'] \n",
    "J = pd.concat([J, K], axis = 0) #Include K to J\n",
    "I.index"
   ]
  },
  {
   "cell_type": "code",
   "execution_count": 295,
   "metadata": {},
   "outputs": [
    {
     "data": {
      "text/plain": [
       "<matplotlib.legend.Legend at 0x21b46e9dd60>"
      ]
     },
     "execution_count": 295,
     "metadata": {},
     "output_type": "execute_result"
    },
    {
     "data": {
      "image/png": "[encoded data removed]",
      "text/plain": [
       "<Figure size 432x288 with 1 Axes>"
      ]
     },
     "metadata": {
      "needs_background": "light"
     },
     "output_type": "display_data"
    }
   ],
   "source": [
    "plt.scatter(J['Latitude'], J['Longtitude'], color = 'blue', edgecolors = 'black',\n",
    "            marker = 'o', s = 30, label = 'J')\n",
    "plt.scatter(I['Latitude'], I['Longtitude'], color = 'gold', edgecolors = 'black',\n",
    "            marker = 's', s = 50, label = 'I')\n",
    "plt.scatter(K['Latitude'], K['Longtitude'], color = 'red', edgecolors = 'black',\n",
    "            marker = 'd', s = 90, label = 'K')\n",
    "plt.legend(loc='center left', bbox_to_anchor=(1, 0.5))"
   ]
  },
  {
   "cell_type": "code",
   "execution_count": 296,
   "metadata": {},
   "outputs": [],
   "source": [
    "#Define constants\n",
    "\n",
    "B = 100\n",
    "S = 10\n",
    "alpha = 10\n",
    "beta = 400\n",
    "q_j = {j: 50 for j in J.index}\n",
    "mu = 10"
   ]
  },
  {
   "cell_type": "markdown",
   "metadata": {},
   "source": [
    "Deterministic model"
   ]
  },
  {
   "cell_type": "code",
   "execution_count": 297,
   "metadata": {},
   "outputs": [
    {
     "data": {
      "text/plain": [
       "{'i0': 10,\n",
       " 'i1': 10,\n",
       " 'i2': 6,\n",
       " 'i3': 8,\n",
       " 'i4': 13,\n",
       " 'i5': 8,\n",
       " 'i6': 11,\n",
       " 'i7': 6,\n",
       " 'i8': 8,\n",
       " 'i9': 11,\n",
       " 'i10': 15,\n",
       " 'i11': 11}"
      ]
     },
     "execution_count": 297,
     "metadata": {},
     "output_type": "execute_result"
    }
   ],
   "source": [
    "theta_det = {}\n",
    "for n in range(0, len(list(I.index))):\n",
    "    theta_det[I.index[n]] = list(poisson.rvs(mu, size = 1))[0]\n",
    "theta_det"
   ]
  },
  {
   "cell_type": "code",
   "execution_count": 298,
   "metadata": {},
   "outputs": [
    {
     "data": {
      "text/plain": [
       "{('k0', 'j0'): 2.8274921838972396,\n",
       " ('k0', 'j1'): 51.52356722529992,\n",
       " ('k0', 'j2'): 38.31131457415681,\n",
       " ('k0', 'j3'): 71.08473342040469,\n",
       " ('k0', 'j4'): 78.34087655828213,\n",
       " ('k0', 'j5'): 103.87980460522631,\n",
       " ('k0', 'j6'): 54.57864290150498,\n",
       " ('k0', 'j7'): 54.55157010627651,\n",
       " ('k0', 'j8'): 65.69270593673242,\n",
       " ('k0', 'j9'): 31.11795051124029,\n",
       " ('k0', 'j10'): 49.23520626868541,\n",
       " ('k0', 'j11'): 94.27441108386728,\n",
       " ('k0', 'j12'): 77.25796481043233,\n",
       " ('k0', 'j13'): 75.39997612101745,\n",
       " ('k0', 'j14'): 65.14444738064786,\n",
       " ('k0', 'j15'): 75.00547352680336,\n",
       " ('k0', 'j16'): 85.74494895100236,\n",
       " ('k0', 'j17'): 65.55832460488904,\n",
       " ('k0', 'j18'): 79.39515680323328,\n",
       " ('k0', 'j19'): 46.49178213340503,\n",
       " ('k0', 'j20'): 26.570301804834653,\n",
       " ('k0', 'j21'): 31.480245159464683,\n",
       " ('k0', 'j22'): 84.28001341243368,\n",
       " ('k0', 'j23'): 69.51798803072482,\n",
       " ('k0', 'j24'): 26.180062515777152,\n",
       " ('k0', 'j25'): 40.90391831524212,\n",
       " ('k0', 'j26'): 70.46419477528994,\n",
       " ('k0', 'j27'): 60.46544023961125,\n",
       " ('k0', 'j28'): 105.62091813670244,\n",
       " ('k0', 'j29'): 20.914910606789597,\n",
       " ('k0', 'j30'): 21.364687199441978,\n",
       " ('k0', 'j31'): 77.62526113798265,\n",
       " ('k0', 'j32'): 78.59657765742729,\n",
       " ('k0', 'j33'): 77.4512330890219,\n",
       " ('k0', 'j34'): 55.48291311241687,\n",
       " ('k0', 'j35'): 51.27662059457507,\n",
       " ('k0', 'j36'): 51.91727611441108,\n",
       " ('k0', 'j37'): 42.61895660958865,\n",
       " ('k0', 'j38'): 64.03833126183099,\n",
       " ('k0', 'j39'): 84.01448977908512,\n",
       " ('k0', 'j40'): 38.34366458138815,\n",
       " ('k0', 'j41'): 10.893640906969534,\n",
       " ('k0', 'j42'): 16.49061660611876,\n",
       " ('k0', 'j43'): 96.34782637470344,\n",
       " ('k0', 'j44'): 60.280914233362445,\n",
       " ('k0', 'j45'): 90.64173033856976,\n",
       " ('k0', 'j46'): 60.54957391922754,\n",
       " ('k0', 'j47'): 41.10719006074241,\n",
       " ('k0', 'j48'): 63.4777560197271,\n",
       " ('k0', 'j49'): 62.70806729448772,\n",
       " ('k0', 'j50'): 86.98004296906272,\n",
       " ('k0', 'j51'): 61.99467044133713,\n",
       " ('k0', 'j52'): 17.738924529407072,\n",
       " ('k0', 'j53'): 81.2766214953599,\n",
       " ('k0', 'j54'): 38.53688878801712,\n",
       " ('k0', 'j55'): 64.43190702447042,\n",
       " ('k0', 'j56'): 95.2911702273091,\n",
       " ('k0', 'j57'): 68.99946990586231,\n",
       " ('k0', 'j58'): 80.18599054460822,\n",
       " ('k0', 'j59'): 68.03222562910904,\n",
       " ('k0', 'j60'): 14.828082145038172,\n",
       " ('k0', 'j61'): 90.05625060843916,\n",
       " ('k0', 'j62'): 28.3108122900068,\n",
       " ('k0', 'j63'): 105.70273512648572,\n",
       " ('k0', 'j64'): 56.7733678821329,\n",
       " ('k0', 'j65'): 67.00348513831203,\n",
       " ('k0', 'j66'): 80.58180136792674,\n",
       " ('k0', 'j67'): 69.41030586886936,\n",
       " ('k0', 'j68'): 10.402692378898847,\n",
       " ('k0', 'j69'): 87.40668012211653,\n",
       " ('k0', 'j70'): 38.7382941906326,\n",
       " ('k0', 'j71'): 2.060670048794809,\n",
       " ('k0', 'j72'): 45.273537067474635,\n",
       " ('k0', 'j73'): 67.74241526289124,\n",
       " ('k0', 'j74'): 29.77215799232565,\n",
       " ('k0', 'j75'): 49.2551314294257,\n",
       " ('k0', 'j76'): 31.00127525151183,\n",
       " ('k0', 'j77'): 79.965968122008,\n",
       " ('k0', 'j78'): 37.89687965268381,\n",
       " ('k0', 'j79'): 49.67130018129181,\n",
       " ('k0', 'j80'): 32.71216703384231,\n",
       " ('k0', 'j81'): 28.705341023927932,\n",
       " ('k0', 'j82'): 65.17775310288012,\n",
       " ('k0', 'j83'): 77.97916361778958,\n",
       " ('k0', 'j84'): 64.77434201672757,\n",
       " ('k0', 'j85'): 33.58858553884041,\n",
       " ('k0', 'j86'): 101.4307383950743,\n",
       " ('k0', 'j87'): 83.04224698609738,\n",
       " ('k0', 'j88'): 67.62479026192983,\n",
       " ('k0', 'j89'): 80.60763001900007,\n",
       " ('k0', 'j90'): 103.72661899984978,\n",
       " ('k0', 'j91'): 72.52060281326955,\n",
       " ('k0', 'j92'): 57.211167282708004,\n",
       " ('k0', 'j93'): 54.97693861993408,\n",
       " ('k0', 'j94'): 74.56709665006409,\n",
       " ('k0', 'j95'): 13.209110420463592,\n",
       " ('k0', 'j96'): 22.209647253839943,\n",
       " ('k0', 'j97'): 82.1892405374937,\n",
       " ('k0', 'j98'): 83.55507006477822,\n",
       " ('k0', 'j99'): 55.04557999694435,\n",
       " ('k0', 'k0'): 0.0,\n",
       " ('k0', 'k1'): 19.61489348454384,\n",
       " ('k1', 'j0'): 22.44142638826686,\n",
       " ('k1', 'j1'): 71.01163441725589,\n",
       " ('k1', 'j2'): 57.60034727785937,\n",
       " ('k1', 'j3'): 90.31020897384747,\n",
       " ('k1', 'j4'): 97.66827033407523,\n",
       " ('k1', 'j5'): 123.46807295576457,\n",
       " ('k1', 'j6'): 68.78641057549086,\n",
       " ('k1', 'j7'): 68.60470245959822,\n",
       " ('k1', 'j8'): 85.05264446741207,\n",
       " ('k1', 'j9'): 44.148391907860024,\n",
       " ('k1', 'j10'): 67.82852486859787,\n",
       " ('k1', 'j11'): 113.70205177893669,\n",
       " ('k1', 'j12'): 91.00606168217588,\n",
       " ('k1', 'j13'): 88.34973513961431,\n",
       " ('k1', 'j14'): 82.24878962805471,\n",
       " ('k1', 'j15'): 90.56988416979455,\n",
       " ('k1', 'j16'): 105.35157295418043,\n",
       " ('k1', 'j17'): 78.76793335622054,\n",
       " ('k1', 'j18'): 97.83406171932147,\n",
       " ('k1', 'j19'): 62.398226104994365,\n",
       " ('k1', 'j20'): 45.73270698887176,\n",
       " ('k1', 'j21'): 50.90650230422436,\n",
       " ('k1', 'j22'): 103.20693450776454,\n",
       " ('k1', 'j23'): 89.10825516780137,\n",
       " ('k1', 'j24'): 35.095088737314796,\n",
       " ('k1', 'j25'): 53.64294750337643,\n",
       " ('k1', 'j26'): 89.37853765071344,\n",
       " ('k1', 'j27'): 78.08175630811593,\n",
       " ('k1', 'j28'): 125.23489444084665,\n",
       " ('k1', 'j29'): 28.00088004974129,\n",
       " ('k1', 'j30'): 30.870086010246233,\n",
       " ('k1', 'j31'): 90.75273141944545,\n",
       " ('k1', 'j32'): 91.33789049332155,\n",
       " ('k1', 'j33'): 96.7896960426057,\n",
       " ('k1', 'j34'): 72.7415279056606,\n",
       " ('k1', 'j35'): 65.9480361518825,\n",
       " ('k1', 'j36'): 71.50460832988318,\n",
       " ('k1', 'j37'): 59.28604208698706,\n",
       " ('k1', 'j38'): 82.9883460390072,\n",
       " ('k1', 'j39'): 103.37684561588249,\n",
       " ('k1', 'j40'): 57.9089849253119,\n",
       " ('k1', 'j41'): 27.249934357719106,\n",
       " ('k1', 'j42'): 14.012041121835184,\n",
       " ('k1', 'j43'): 115.7737482064911,\n",
       " ('k1', 'j44'): 77.71568813270586,\n",
       " ('k1', 'j45'): 109.62833291334864,\n",
       " ('k1', 'j46'): 73.85335555985252,\n",
       " ('k1', 'j47'): 60.07498780440992,\n",
       " ('k1', 'j48'): 79.23835562459637,\n",
       " ('k1', 'j49'): 78.00682087163916,\n",
       " ('k1', 'j50'): 106.40048625889828,\n",
       " ('k1', 'j51'): 73.5125152921596,\n",
       " ('k1', 'j52'): 29.11367464766342,\n",
       " ('k1', 'j53'): 96.86726158290013,\n",
       " ('k1', 'j54'): 52.00930804432991,\n",
       " ('k1', 'j55'): 82.19732412311242,\n",
       " ('k1', 'j56'): 114.57629672013319,\n",
       " ('k1', 'j57'): 82.40049637289815,\n",
       " ('k1', 'j58'): 98.74950535071049,\n",
       " ('k1', 'j59'): 82.27043732714687,\n",
       " ('k1', 'j60'): 6.449040174320527,\n",
       " ('k1', 'j61'): 108.49587426450833,\n",
       " ('k1', 'j62'): 39.854507930847674,\n",
       " ('k1', 'j63'): 125.31757915795373,\n",
       " ('k1', 'j64'): 68.94378852115686,\n",
       " ('k1', 'j65'): 84.04635452207312,\n",
       " ('k1', 'j66'): 93.84791180548451,\n",
       " ('k1', 'j67'): 87.05980460361717,\n",
       " ('k1', 'j68'): 13.349347811035571,\n",
       " ('k1', 'j69'): 106.13526136520322,\n",
       " ('k1', 'j70'): 50.16243911782998,\n",
       " ('k1', 'j71'): 21.417262428237652,\n",
       " ('k1', 'j72'): 60.45814570072424,\n",
       " ('k1', 'j73'): 81.37482626426923,\n",
       " ('k1', 'j74'): 44.69774127011342,\n",
       " ('k1', 'j75'): 68.69522849135885,\n",
       " ('k1', 'j76'): 50.61039140937364,\n",
       " ('k1', 'j77'): 96.96511689076645,\n",
       " ('k1', 'j78'): 56.75410157442368,\n",
       " ('k1', 'j79'): 69.23188333975901,\n",
       " ('k1', 'j80'): 51.22178152797889,\n",
       " ('k1', 'j81'): 44.66403239263111,\n",
       " ('k1', 'j82'): 76.3710784761483,\n",
       " ('k1', 'j83'): 93.87108343947033,\n",
       " ('k1', 'j84'): 83.9344720520121,\n",
       " ('k1', 'j85'): 52.95138377993535,\n",
       " ('k1', 'j86'): 121.01782180100584,\n",
       " ('k1', 'j87'): 101.4489188159736,\n",
       " ('k1', 'j88'): 86.97141822518476,\n",
       " ('k1', 'j89'): 99.71109453140107,\n",
       " ('k1', 'j90'): 123.32548889588884,\n",
       " ('k1', 'j91'): 91.74535604666866,\n",
       " ('k1', 'j92'): 76.36129561878845,\n",
       " ('k1', 'j93'): 67.51764001688744,\n",
       " ('k1', 'j94'): 93.66882210452954,\n",
       " ('k1', 'j95'): 29.391268763529073,\n",
       " ('k1', 'j96'): 32.16027137152298,\n",
       " ('k1', 'j97'): 98.84892373364518,\n",
       " ('k1', 'j98'): 102.38761079437296,\n",
       " ('k1', 'j99'): 73.737779793875,\n",
       " ('k1', 'k0'): 19.61489348454384,\n",
       " ('k1', 'k1'): 0.0}"
      ]
     },
     "execution_count": 298,
     "metadata": {},
     "output_type": "execute_result"
    }
   ],
   "source": [
    "#Define distance matrices\n",
    "\n",
    "def distance(point1, PointsSet1, point2, PointsSet2):\n",
    "    c1 = np.array((PointsSet1.loc[point1, 'Latitude'], PointsSet1.loc[point1, 'Longtitude']))\n",
    "    c2 = np.array((PointsSet2.loc[point2, 'Latitude'], PointsSet2.loc[point2, 'Longtitude']))\n",
    "    return np.linalg.norm(c1-c2)\n",
    "\n",
    "dist_JI = {(c1, c2): distance(c1, J, c2, I)for c1, c2 in itertools.product(J.index, I.index)}\n",
    "dist_IK = {(c1, c2): distance(c1, I, c2, K)for c1, c2 in itertools.product(I.index, K.index)}\n",
    "dist_KJ = {(c1, c2): distance(c1, K, c2, J)for c1, c2 in itertools.product(K.index, J.index)}\n",
    " \n",
    "dist_KJ\n"
   ]
  },
  {
   "cell_type": "code",
   "execution_count": 299,
   "metadata": {},
   "outputs": [
    {
     "data": {
      "text/plain": [
       "[('k0', 'j0'),\n",
       " ('k0', 'j2'),\n",
       " ('k0', 'j9'),\n",
       " ('k0', 'j10'),\n",
       " ('k0', 'j19'),\n",
       " ('k0', 'j20'),\n",
       " ('k0', 'j21'),\n",
       " ('k0', 'j24'),\n",
       " ('k0', 'j25'),\n",
       " ('k0', 'j29'),\n",
       " ('k0', 'j30'),\n",
       " ('k0', 'j37'),\n",
       " ('k0', 'j40'),\n",
       " ('k0', 'j41'),\n",
       " ('k0', 'j42'),\n",
       " ('k0', 'j47'),\n",
       " ('k0', 'j52'),\n",
       " ('k0', 'j54'),\n",
       " ('k0', 'j60'),\n",
       " ('k0', 'j62'),\n",
       " ('k0', 'j68'),\n",
       " ('k0', 'j70'),\n",
       " ('k0', 'j71'),\n",
       " ('k0', 'j72'),\n",
       " ('k0', 'j74'),\n",
       " ('k0', 'j75'),\n",
       " ('k0', 'j76'),\n",
       " ('k0', 'j78'),\n",
       " ('k0', 'j79'),\n",
       " ('k0', 'j80'),\n",
       " ('k0', 'j81'),\n",
       " ('k0', 'j85'),\n",
       " ('k0', 'j95'),\n",
       " ('k0', 'j96'),\n",
       " ('k0', 'k0'),\n",
       " ('k0', 'k1'),\n",
       " ('k1', 'j0'),\n",
       " ('k1', 'j9'),\n",
       " ('k1', 'j20'),\n",
       " ('k1', 'j24'),\n",
       " ('k1', 'j29'),\n",
       " ('k1', 'j30'),\n",
       " ('k1', 'j41'),\n",
       " ('k1', 'j42'),\n",
       " ('k1', 'j52'),\n",
       " ('k1', 'j60'),\n",
       " ('k1', 'j62'),\n",
       " ('k1', 'j68'),\n",
       " ('k1', 'j71'),\n",
       " ('k1', 'j74'),\n",
       " ('k1', 'j81'),\n",
       " ('k1', 'j95'),\n",
       " ('k1', 'j96'),\n",
       " ('k1', 'k0'),\n",
       " ('k1', 'k1')]"
      ]
     },
     "execution_count": 299,
     "metadata": {},
     "output_type": "execute_result"
    }
   ],
   "source": [
    "#Define set L\n",
    "L = list()\n",
    "for k, j in itertools.product(K.index, J.index):\n",
    "    if dist_KJ[(k, j)] <= 0.5*B:\n",
    "        L.append((k, j))\n",
    "        \n",
    "L"
   ]
  },
  {
   "cell_type": "code",
   "execution_count": 300,
   "metadata": {},
   "outputs": [
    {
     "data": {
      "text/plain": [
       "[('k0', 'j19'),\n",
       " ('k0', 'j20'),\n",
       " ('k0', 'j24'),\n",
       " ('k0', 'j25'),\n",
       " ('k0', 'j29'),\n",
       " ('k0', 'j30'),\n",
       " ('k0', 'j37'),\n",
       " ('k0', 'j41'),\n",
       " ('k0', 'j54'),\n",
       " ('k0', 'j62'),\n",
       " ('k0', 'j72'),\n",
       " ('k0', 'j96'),\n",
       " ('k1', 'j20'),\n",
       " ('k1', 'j24'),\n",
       " ('k1', 'j29'),\n",
       " ('k1', 'j30'),\n",
       " ('k1', 'j41'),\n",
       " ('k1', 'j62'),\n",
       " ('k1', 'j96')]"
      ]
     },
     "execution_count": 300,
     "metadata": {},
     "output_type": "execute_result"
    }
   ],
   "source": [
    "#Define sets M_kj\n",
    "\n",
    "M_kj = {}\n",
    "M_interim = []\n",
    "\n",
    "for (k, j) in L:\n",
    "    for i in I.index:\n",
    "        if dist_JI[j, i] <= S:\n",
    "            if dist_JI[j, i] + dist_IK[i, k] + dist_KJ[k, j] <= B:\n",
    "                M_interim.append(i)\n",
    "    M_kj[(k, j)] = M_interim\n",
    "    M_interim = []\n",
    "\n",
    "M_kj_interim = {key : val for key, val in M_kj.items() if val != []}  \n",
    "\n",
    "KJ_feas = list(M_kj_interim.keys())\n",
    "KJ_feas\n"
   ]
  },
  {
   "cell_type": "code",
   "execution_count": 301,
   "metadata": {},
   "outputs": [
    {
     "data": {
      "text/plain": [
       "['i3', 'i4', 'i5', 'i7', 'i10']"
      ]
     },
     "execution_count": 301,
     "metadata": {},
     "output_type": "execute_result"
    }
   ],
   "source": [
    "#Define sets N_i\n",
    "\n",
    "N_i = {}\n",
    "N_interim = []\n",
    "\n",
    "for i in I.index:\n",
    "    for (k, j) in L:\n",
    "        if dist_JI[j, i] <= S:\n",
    "            if dist_JI[j, i] + dist_IK[i, k] + dist_KJ[k, j] <= B:\n",
    "                N_interim.append((k, j))\n",
    "    N_i[i] = N_interim\n",
    "    N_interim = []\n",
    "    \n",
    "N_i_interim = {key : val for key, val in N_i.items() if val != []}   \n",
    " \n",
    "I_feas = list(N_i_interim.keys())\n",
    "I_feas"
   ]
  },
  {
   "cell_type": "code",
   "execution_count": 302,
   "metadata": {},
   "outputs": [],
   "source": [
    "model_det = gp.Model('Location-allocation problem 1')"
   ]
  },
  {
   "cell_type": "code",
   "execution_count": 303,
   "metadata": {},
   "outputs": [],
   "source": [
    "x_ikj = model_det.addVars(I.index, L, vtype = GRB.INTEGER, name = 'x_ikj')\n",
    "y_j = model_det.addVars(J.index, vtype = GRB.BINARY, name = 'y_j')"
   ]
  },
  {
   "cell_type": "code",
   "execution_count": 304,
   "metadata": {},
   "outputs": [
    {
     "data": {
      "text/plain": [
       "{}"
      ]
     },
     "execution_count": 304,
     "metadata": {},
     "output_type": "execute_result"
    }
   ],
   "source": [
    "model_det.addConstrs((gp.quicksum(x_ikj[i, k, j] for (k, j) in N_i[i]) >= theta_det[i] for i in I_feas), name = 'c2')\n",
    "model_det.addConstrs((gp.quicksum(x_ikj[i, k, j] for i in M_kj[(k, j)]) <= q_j[j] * y_j[j] for (k, j) in KJ_feas), name = 'c4')\n",
    "model_det.addConstrs(((dist_JI[(j, i)] + dist_IK[(i, k)] + dist_KJ[(k, j)]) * y_j[j] <= B\n",
    "                  for (k, j) in N_i[i] for i in M_kj[(k, j)]), name = 'c5')\n",
    "model_det.addConstrs((dist_JI[(j, i)] * y_j[j] <= S for (k, j) in N_i[i] for i in M_kj[(k, j)]), name = 'c6')"
   ]
  },
  {
   "cell_type": "code",
   "execution_count": 305,
   "metadata": {},
   "outputs": [],
   "source": [
    "model_det.setObjective(alpha * gp.quicksum(x_ikj) + beta * gp.quicksum(y_j), GRB.MINIMIZE)"
   ]
  },
  {
   "cell_type": "code",
   "execution_count": 306,
   "metadata": {},
   "outputs": [
    {
     "name": "stdout",
     "output_type": "stream",
     "text": [
      "Gurobi Optimizer version 10.0.3 build v10.0.3rc0 (win64)\n",
      "\n",
      "CPU model: 11th Gen Intel(R) Core(TM) i5-1145G7 @ 2.60GHz, instruction set [SSE2|AVX|AVX2|AVX512]\n",
      "Thread count: 4 physical cores, 8 logical processors, using up to 8 threads\n",
      "\n",
      "Optimize a model with 24 rows, 762 columns and 57 nonzeros\n",
      "Model fingerprint: 0x40537772\n",
      "Variable types: 0 continuous, 762 integer (102 binary)\n",
      "Coefficient statistics:\n",
      "  Matrix range     [1e+00, 5e+01]\n",
      "  Objective range  [1e+01, 4e+02]\n",
      "  Bounds range     [1e+00, 1e+00]\n",
      "  RHS range        [6e+00, 2e+01]\n",
      "Found heuristic solution: objective 2500.0000000\n",
      "Presolve removed 13 rows and 747 columns\n",
      "Presolve time: 0.00s\n",
      "Presolved: 11 rows, 15 columns, 30 nonzeros\n",
      "Variable types: 0 continuous, 15 integer (5 binary)\n",
      "\n",
      "Root relaxation: objective 2.300000e+03, 11 iterations, 0.00 seconds (0.00 work units)\n",
      "\n",
      "    Nodes    |    Current Node    |     Objective Bounds      |     Work\n",
      " Expl Unexpl |  Obj  Depth IntInf | Incumbent    BestBd   Gap | It/Node Time\n",
      "\n",
      "     0     0 2300.00000    0    1 2500.00000 2300.00000  8.00%     -    0s\n",
      "     0     0     cutoff    0      2500.00000 2500.00000  0.00%     -    0s\n",
      "\n",
      "Cutting planes:\n",
      "  MIR: 1\n",
      "  Network: 1\n",
      "\n",
      "Explored 1 nodes (14 simplex iterations) in 0.02 seconds (0.00 work units)\n",
      "Thread count was 8 (of 8 available processors)\n",
      "\n",
      "Solution count 1: 2500 \n",
      "\n",
      "Optimal solution found (tolerance 1.00e-04)\n",
      "Best objective 2.500000000000e+03, best bound 2.500000000000e+03, gap 0.0000%\n"
     ]
    }
   ],
   "source": [
    "model_det.optimize()"
   ]
  },
  {
   "cell_type": "code",
   "execution_count": 307,
   "metadata": {},
   "outputs": [
    {
     "name": "stdout",
     "output_type": "stream",
     "text": [
      "Number of solutions found: 1\n",
      "2500 \n",
      "x_ikj[i3,k0,j20] 8\n",
      "x_ikj[i4,k0,j54] 13\n",
      "x_ikj[i5,k1,j41] 8\n",
      "x_ikj[i7,k0,j30] 6\n",
      "x_ikj[i10,k0,j72] 15\n",
      "y_j[j20] 1\n",
      "y_j[j30] 1\n",
      "y_j[j41] 1\n",
      "y_j[j54] 1\n",
      "y_j[j72] 1\n",
      "\n",
      "\n",
      "\n",
      "\n"
     ]
    }
   ],
   "source": [
    "nSolutions = model_det.SolCount\n",
    "print('Number of solutions found: ' + str(nSolutions))\n",
    "#for e in range(nSolutions):\n",
    "for iter2 in range(1):\n",
    "        model_det.setParam(GRB.Param.SolutionNumber, iter2)\n",
    "        print('%g ' % model_det.PoolObjVal, end='\\n')\n",
    "        for v in model_det.getVars():\n",
    "             if v.xn > 0:\n",
    "                   print ('%s %g' % (v.varName, v.Xn))\n",
    "        print(\"\\n\")\n",
    "print(\"\\n\")"
   ]
  },
  {
   "cell_type": "code",
   "execution_count": 314,
   "metadata": {},
   "outputs": [
    {
     "data": {
      "image/png": "[encoded data removed]",
      "text/plain": [
       "<Figure size 432x288 with 1 Axes>"
      ]
     },
     "metadata": {
      "needs_background": "light"
     },
     "output_type": "display_data"
    }
   ],
   "source": [
    "def SolutionGraph(I, K, J, model):\n",
    "    \n",
    "    # plt.scatter(J['Latitude'], J['Longtitude'], color = 'blue', edgecolors = 'black',\n",
    "    #             marker = 'o', s = 30, label = 'J')\n",
    "    plt.scatter(I['Latitude'], I['Longtitude'], color = 'gold', edgecolors = 'black',\n",
    "                marker = 's', s = 50, label = 'I')\n",
    "    plt.scatter(K['Latitude'], K['Longtitude'], color = 'red', edgecolors = 'black',\n",
    "                marker = 'd', s = 90, label = 'K')\n",
    "\n",
    "\n",
    "    for v in model.getVars():\n",
    "        if v.xn > 0:\n",
    "            if v.varName.startswith('x_ikj'):\n",
    "                indices_x = v.varName[6:-1].split(',') #drop variable name and brackets and convert to a list of indices\n",
    "                plt.plot((J.loc[indices_x[2], 'Latitude'], I.loc[indices_x[0], 'Latitude']),\n",
    "                        (J.loc[indices_x[2], 'Longtitude'], I.loc[indices_x[0], 'Longtitude']),\n",
    "                        color = 'lightseagreen', linestyle = \"--\")\n",
    "                plt.plot((I.loc[indices_x[0], 'Latitude'], K.loc[indices_x[1], 'Latitude']),\n",
    "                        (I.loc[indices_x[0], 'Longtitude'], K.loc[indices_x[1], 'Longtitude']),\n",
    "                        color = 'lightseagreen', linestyle = \"--\", linewidth = 0.7)\n",
    "                plt.annotate(str(int(v.xn)), xy = ((J.loc[indices_x[2], 'Latitude'] + I.loc[indices_x[0], 'Latitude'])/2,\n",
    "                                                (J.loc[indices_x[2], 'Longtitude'] + I.loc[indices_x[0], 'Longtitude'])/2))\n",
    "            else:\n",
    "                index_y = v.varName[4:-1]\n",
    "                plt.scatter(J.loc[index_y, 'Latitude'], J.loc[index_y, 'Longtitude'], color = 'green',\n",
    "                            edgecolors = 'black', s = 100, marker = 'X', label = index_y)\n",
    "        \n",
    "            \n",
    "\n",
    "    plt.legend(loc = 'center left', bbox_to_anchor = (1, 0.5))\n",
    "    \n",
    "\n",
    "SolutionGraph(I, K, J, model_det)"
   ]
  },
  {
   "cell_type": "markdown",
   "metadata": {},
   "source": [
    "Probabilistic model"
   ]
  },
  {
   "cell_type": "code",
   "execution_count": 309,
   "metadata": {},
   "outputs": [
    {
     "data": {
      "text/plain": [
       "<scipy.stats._distn_infrastructure.rv_frozen at 0x21b46dcebe0>"
      ]
     },
     "execution_count": 309,
     "metadata": {},
     "output_type": "execute_result"
    }
   ],
   "source": [
    "theta_ran = poisson(mu)\n",
    "theta_ran"
   ]
  }
 ],
 "metadata": {
  "kernelspec": {
   "display_name": "base",
   "language": "python",
   "name": "python3"
  },
  "language_info": {
   "codemirror_mode": {
    "name": "ipython",
    "version": 3
   },
   "file_extension": ".py",
   "mimetype": "text/x-python",
   "name": "python",
   "nbconvert_exporter": "python",
   "pygments_lexer": "ipython3",
   "version": "3.9.12"
  }
 },
 "nbformat": 4,
 "nbformat_minor": 2
}
