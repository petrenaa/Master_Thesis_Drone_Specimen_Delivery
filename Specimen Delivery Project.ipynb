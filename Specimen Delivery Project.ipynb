{
 "cells": [
  {
   "cell_type": "markdown",
   "metadata": {},
   "source": [
    "Initialize the map of coordinates: Doctor's offices, laboratories, candidate locations"
   ]
  },
  {
   "cell_type": "code",
   "execution_count": 92,
   "metadata": {},
   "outputs": [],
   "source": [
    "import pandas as pd\n",
    "import numpy as np\n",
    "import matplotlib.pyplot as plt\n",
    "import math\n",
    "from itertools import combinations"
   ]
  },
  {
   "cell_type": "code",
   "execution_count": 93,
   "metadata": {},
   "outputs": [],
   "source": [
    "#Define the number of elememts in each set I, J, K\n",
    "i_num = 15\n",
    "k_num = 4\n",
    "j_num = 100 #Set J contains I and K\n",
    "\n",
    "#Define empty data frames\n",
    "I = pd.DataFrame(columns = ['Point number', 'Latitude', 'Longtitude'])\n",
    "J = pd.DataFrame(columns = ['Point number', 'Latitude', 'Longtitude'])\n",
    "K = pd.DataFrame(columns = ['Point number', 'Latitude', 'Longtitude'])"
   ]
  },
  {
   "cell_type": "code",
   "execution_count": 94,
   "metadata": {},
   "outputs": [],
   "source": [
    "import random\n",
    "random.seed(108448)\n",
    "\n",
    "#Define sets of I, J, K, where J contains I and K\n",
    "\n",
    "for i in range(i_num):\n",
    "    I.loc[i, 'Point number'] = 'i'+ str(i)\n",
    "    I.loc[i, 'Latitude'] = round(random.uniform(0, 100), 4)\n",
    "    I.loc[i, 'Longtitude'] = round(random.uniform(0, 100), 4)\n",
    "\n",
    "I.index = I['Point number']\n",
    "    \n",
    "    \n",
    "for k in range(k_num):\n",
    "    K.loc[k, 'Point number'] = 'k'+ str(k)\n",
    "    K.loc[k, 'Latitude'] = round(random.uniform(0, 100), 4)\n",
    "    K.loc[k, 'Longtitude'] = round(random.uniform(0, 100), 4)\n",
    "\n",
    "K.index = K['Point number']\n",
    "\n",
    "\n",
    "for j in range(j_num):\n",
    "    J.loc[j, 'Point number'] = 'j'+ str(j)\n",
    "    J.loc[j, 'Latitude'] = round(random.uniform(0, 100), 4)\n",
    "    J.loc[j, 'Longtitude'] = round(random.uniform(0, 100), 4)\n",
    "\n",
    "J.index = J['Point number'] \n",
    "J = pd.concat([J, K], axis = 0) #Include K to J"
   ]
  },
  {
   "cell_type": "code",
   "execution_count": 95,
   "metadata": {},
   "outputs": [
    {
     "data": {
      "text/plain": [
       "<matplotlib.legend.Legend at 0x24eb3de0a60>"
      ]
     },
     "execution_count": 95,
     "metadata": {},
     "output_type": "execute_result"
    },
    {
     "data": {
      "image/png": "[encoded data removed]",
      "text/plain": [
       "<Figure size 432x288 with 1 Axes>"
      ]
     },
     "metadata": {
      "needs_background": "light"
     },
     "output_type": "display_data"
    }
   ],
   "source": [
    "plt.scatter(J['Latitude'], J['Longtitude'], color = 'blue', edgecolors = 'black',\n",
    "            marker = 'o', s = 30, label = 'J')\n",
    "plt.scatter(I['Latitude'], I['Longtitude'], color = 'gold', edgecolors = 'black',\n",
    "            marker = 's', s = 50, label = 'I')\n",
    "plt.scatter(K['Latitude'], K['Longtitude'], color = 'red', edgecolors = 'black',\n",
    "            marker = 'd', s = 90, label = 'K')\n",
    "plt.legend(loc='center left', bbox_to_anchor=(1, 0.5))"
   ]
  },
  {
   "cell_type": "code",
   "execution_count": 99,
   "metadata": {},
   "outputs": [
    {
     "data": {
      "text/plain": [
       "30.645481801564152"
      ]
     },
     "execution_count": 99,
     "metadata": {},
     "output_type": "execute_result"
    }
   ],
   "source": [
    "def distance(point1, PointsSet1, point2, PointsSet2):\n",
    "    c1 = np.array((PointsSet1.loc[point1, 'Latitude'], PointsSet1.loc[point1, 'Longtitude']))\n",
    "    c2 = np.array((PointsSet2.loc[point2, 'Latitude'], PointsSet2.loc[point2, 'Longtitude']))\n",
    "    return np.linalg.norm(c1-c2)\n",
    "\n",
    "distance('j1', J, 'i1', I)"
   ]
  }
 ],
 "metadata": {
  "kernelspec": {
   "display_name": "base",
   "language": "python",
   "name": "python3"
  },
  "language_info": {
   "codemirror_mode": {
    "name": "ipython",
    "version": 3
   },
   "file_extension": ".py",
   "mimetype": "text/x-python",
   "name": "python",
   "nbconvert_exporter": "python",
   "pygments_lexer": "ipython3",
   "version": "3.9.12"
  }
 },
 "nbformat": 4,
 "nbformat_minor": 2
}
