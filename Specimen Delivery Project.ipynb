{
 "cells": [
  {
   "cell_type": "code",
   "execution_count": 1,
   "metadata": {},
   "outputs": [],
   "source": [
    "import pandas as pd\n",
    "import numpy as np\n",
    "import matplotlib.pyplot as plt\n",
    "import math\n",
    "import itertools\n",
    "import random\n",
    "random.seed(108448)\n",
    "\n",
    "#%pip install gurobipy\n",
    "import gurobipy as gp\n",
    "from gurobipy import GRB"
   ]
  },
  {
   "cell_type": "code",
   "execution_count": 2,
   "metadata": {},
   "outputs": [],
   "source": [
    "#Define the number of elememts in each set I, J, K\n",
    "i_num = 5\n",
    "k_num = 3\n",
    "j_num = 5 #Without I and K, so real j_num_real = j_num + i_num + k_num\n",
    "\n",
    "#Define empty data frames\n",
    "I = pd.DataFrame(columns = ['Point number', 'Latitude', 'Longtitude'])\n",
    "J = pd.DataFrame(columns = ['Point number', 'Latitude', 'Longtitude'])\n",
    "K = pd.DataFrame(columns = ['Point number', 'Latitude', 'Longtitude'])\n"
   ]
  },
  {
   "cell_type": "code",
   "execution_count": 3,
   "metadata": {},
   "outputs": [
    {
     "data": {
      "text/html": [
       "<div>\n",
       "<style scoped>\n",
       "    .dataframe tbody tr th:only-of-type {\n",
       "        vertical-align: middle;\n",
       "    }\n",
       "\n",
       "    .dataframe tbody tr th {\n",
       "        vertical-align: top;\n",
       "    }\n",
       "\n",
       "    .dataframe thead th {\n",
       "        text-align: right;\n",
       "    }\n",
       "</style>\n",
       "<table border=\"1\" class=\"dataframe\">\n",
       "  <thead>\n",
       "    <tr style=\"text-align: right;\">\n",
       "      <th></th>\n",
       "      <th>Point number</th>\n",
       "      <th>Latitude</th>\n",
       "      <th>Longtitude</th>\n",
       "    </tr>\n",
       "    <tr>\n",
       "      <th>Point number</th>\n",
       "      <th></th>\n",
       "      <th></th>\n",
       "      <th></th>\n",
       "    </tr>\n",
       "  </thead>\n",
       "  <tbody>\n",
       "    <tr>\n",
       "      <th>i0</th>\n",
       "      <td>i0</td>\n",
       "      <td>84.3875</td>\n",
       "      <td>34.899</td>\n",
       "    </tr>\n",
       "    <tr>\n",
       "      <th>i1</th>\n",
       "      <td>i1</td>\n",
       "      <td>55.0026</td>\n",
       "      <td>34.1115</td>\n",
       "    </tr>\n",
       "    <tr>\n",
       "      <th>i2</th>\n",
       "      <td>i2</td>\n",
       "      <td>10.235</td>\n",
       "      <td>46.9223</td>\n",
       "    </tr>\n",
       "    <tr>\n",
       "      <th>i3</th>\n",
       "      <td>i3</td>\n",
       "      <td>73.2285</td>\n",
       "      <td>64.8592</td>\n",
       "    </tr>\n",
       "    <tr>\n",
       "      <th>i4</th>\n",
       "      <td>i4</td>\n",
       "      <td>85.2221</td>\n",
       "      <td>38.2271</td>\n",
       "    </tr>\n",
       "  </tbody>\n",
       "</table>\n",
       "</div>"
      ],
      "text/plain": [
       "             Point number Latitude Longtitude\n",
       "Point number                                 \n",
       "i0                     i0  84.3875     34.899\n",
       "i1                     i1  55.0026    34.1115\n",
       "i2                     i2   10.235    46.9223\n",
       "i3                     i3  73.2285    64.8592\n",
       "i4                     i4  85.2221    38.2271"
      ]
     },
     "execution_count": 3,
     "metadata": {},
     "output_type": "execute_result"
    }
   ],
   "source": [
    "#Define sets of I, J, K, where J contains I and K\n",
    "\n",
    "for i in range(i_num):\n",
    "    I.loc[i, 'Point number'] = 'i'+ str(i)\n",
    "    I.loc[i, 'Latitude'] = round(random.uniform(0, 100), 4)\n",
    "    I.loc[i, 'Longtitude'] = round(random.uniform(0, 100), 4)\n",
    "\n",
    "I.index = I['Point number']\n",
    "    \n",
    "    \n",
    "for k in range(k_num):\n",
    "    K.loc[k, 'Point number'] = 'k'+ str(k)\n",
    "    K.loc[k, 'Latitude'] = round(random.uniform(0, 100), 4)\n",
    "    K.loc[k, 'Longtitude'] = round(random.uniform(0, 100), 4)\n",
    "\n",
    "K.index = K['Point number']\n",
    "\n",
    "\n",
    "for j in range(j_num):\n",
    "    J.loc[j, 'Point number'] = 'j'+ str(j)\n",
    "    J.loc[j, 'Latitude'] = round(random.uniform(0, 100), 4)\n",
    "    J.loc[j, 'Longtitude'] = round(random.uniform(0, 100), 4)\n",
    "\n",
    "J.index = J['Point number'] \n",
    "#J = pd.concat([J, K], axis = 0) #Include K to J\n",
    "I"
   ]
  },
  {
   "cell_type": "code",
   "execution_count": 4,
   "metadata": {},
   "outputs": [
    {
     "data": {
      "text/plain": [
       "<matplotlib.legend.Legend at 0x2988b354fd0>"
      ]
     },
     "execution_count": 4,
     "metadata": {},
     "output_type": "execute_result"
    },
    {
     "data": {
      "image/png": "[encoded data removed]",
      "text/plain": [
       "<Figure size 432x288 with 1 Axes>"
      ]
     },
     "metadata": {
      "needs_background": "light"
     },
     "output_type": "display_data"
    }
   ],
   "source": [
    "plt.scatter(J['Latitude'], J['Longtitude'], color = 'blue', edgecolors = 'black',\n",
    "            marker = 'o', s = 30, label = 'J')\n",
    "plt.scatter(I['Latitude'], I['Longtitude'], color = 'gold', edgecolors = 'black',\n",
    "            marker = 's', s = 50, label = 'I')\n",
    "plt.scatter(K['Latitude'], K['Longtitude'], color = 'red', edgecolors = 'black',\n",
    "            marker = 'd', s = 90, label = 'K')\n",
    "plt.legend(loc='center left', bbox_to_anchor=(1, 0.5))"
   ]
  },
  {
   "cell_type": "code",
   "execution_count": 5,
   "metadata": {},
   "outputs": [
    {
     "data": {
      "text/plain": [
       "{'i0': 26, 'i1': 41, 'i2': 31, 'i3': 31, 'i4': 11}"
      ]
     },
     "execution_count": 5,
     "metadata": {},
     "output_type": "execute_result"
    }
   ],
   "source": [
    "#Define constants\n",
    "\n",
    "B = 100\n",
    "S = 50\n",
    "alpha = 10000\n",
    "beta = 400000\n",
    "q = {j: 100 for j in J.index}\n",
    "theta = {i: random.randint(0, 50) for i in I.index}\n",
    "p = 0.97\n",
    "\n",
    "theta"
   ]
  },
  {
   "cell_type": "code",
   "execution_count": 6,
   "metadata": {},
   "outputs": [
    {
     "data": {
      "text/plain": [
       "{('i0', 'k0'): 36.168411096148525,\n",
       " ('i0', 'k1'): 65.737167812205,\n",
       " ('i0', 'k2'): 66.42911371650234,\n",
       " ('i1', 'k0'): 42.00729826351606,\n",
       " ('i1', 'k1'): 37.10643047518853,\n",
       " ('i1', 'k2'): 63.084976361254185,\n",
       " ('i2', 'k0'): 70.23908300796644,\n",
       " ('i2', 'k1'): 26.74008910923821,\n",
       " ('i2', 'k2'): 71.02080259262071,\n",
       " ('i3', 'k0'): 6.2643377000286256,\n",
       " ('i3', 'k1'): 68.39419945470522,\n",
       " ('i3', 'k2'): 34.46064508101959,\n",
       " ('i4', 'k0'): 33.1379797195001,\n",
       " ('i4', 'k1'): 67.27998218222119,\n",
       " ('i4', 'k2'): 63.649366161887265}"
      ]
     },
     "execution_count": 6,
     "metadata": {},
     "output_type": "execute_result"
    }
   ],
   "source": [
    "#Define distance matrices\n",
    "\n",
    "def distance(point1, PointsSet1, point2, PointsSet2):\n",
    "    c1 = np.array((PointsSet1.loc[point1, 'Latitude'], PointsSet1.loc[point1, 'Longtitude']))\n",
    "    c2 = np.array((PointsSet2.loc[point2, 'Latitude'], PointsSet2.loc[point2, 'Longtitude']))\n",
    "    return np.linalg.norm(c1-c2)\n",
    "\n",
    "dist_JI = {(c1, c2): distance(c1, J, c2, I)for c1, c2 in itertools.product(J.index, I.index)}\n",
    "dist_IK = {(c1, c2): distance(c1, I, c2, K)for c1, c2 in itertools.product(I.index, K.index)}\n",
    "dist_KJ = {(c1, c2): distance(c1, K, c2, J)for c1, c2 in itertools.product(K.index, J.index)}\n",
    " \n",
    "dist_IK\n"
   ]
  },
  {
   "cell_type": "code",
   "execution_count": 7,
   "metadata": {},
   "outputs": [
    {
     "data": {
      "text/plain": [
       "[('k0', 'j2'),\n",
       " ('k0', 'j3'),\n",
       " ('k0', 'j4'),\n",
       " ('k1', 'j3'),\n",
       " ('k2', 'j1'),\n",
       " ('k2', 'j2'),\n",
       " ('k2', 'j4')]"
      ]
     },
     "execution_count": 7,
     "metadata": {},
     "output_type": "execute_result"
    }
   ],
   "source": [
    "#Define set L\n",
    "L = list()\n",
    "for k, j in itertools.product(K.index, J.index):\n",
    "    if dist_KJ[(k, j)] <= 0.5*B:\n",
    "        L.append((k, j))\n",
    "        \n",
    "L"
   ]
  },
  {
   "cell_type": "code",
   "execution_count": 8,
   "metadata": {},
   "outputs": [
    {
     "data": {
      "text/plain": [
       "{('k0', 'j2'): ['i3'],\n",
       " ('k0', 'j3'): ['i1', 'i3'],\n",
       " ('k0', 'j4'): ['i0', 'i3', 'i4'],\n",
       " ('k1', 'j3'): ['i1'],\n",
       " ('k2', 'j1'): [],\n",
       " ('k2', 'j2'): ['i3'],\n",
       " ('k2', 'j4'): ['i3']}"
      ]
     },
     "execution_count": 8,
     "metadata": {},
     "output_type": "execute_result"
    }
   ],
   "source": [
    "#Define sets M_kj\n",
    "\n",
    "M_kj = {}\n",
    "M_interim = []\n",
    "\n",
    "for (k, j) in L:\n",
    "    for i in I.index:\n",
    "        if dist_JI[j, i] <= S:\n",
    "            if dist_JI[j, i] + dist_IK[i, k] + dist_KJ[k, j] <= B:\n",
    "                M_interim.append(i)\n",
    "    M_kj[(k, j)] = M_interim\n",
    "    M_interim = []\n",
    "  \n",
    "M_kj  "
   ]
  },
  {
   "cell_type": "code",
   "execution_count": 9,
   "metadata": {},
   "outputs": [
    {
     "data": {
      "text/plain": [
       "{'i0': [('k0', 'j4')],\n",
       " 'i1': [('k0', 'j3'), ('k1', 'j3')],\n",
       " 'i2': [],\n",
       " 'i3': [('k0', 'j2'), ('k0', 'j3'), ('k0', 'j4'), ('k2', 'j2'), ('k2', 'j4')],\n",
       " 'i4': [('k0', 'j4')]}"
      ]
     },
     "execution_count": 9,
     "metadata": {},
     "output_type": "execute_result"
    }
   ],
   "source": [
    "#Define sets N_i\n",
    "\n",
    "N_i = {}\n",
    "N_interim = []\n",
    "\n",
    "for i in I.index:\n",
    "    for (k, j) in L:\n",
    "        if dist_JI[j, i] <= S:\n",
    "            if dist_JI[j, i] + dist_IK[i, k] + dist_KJ[k, j] <= B:\n",
    "                N_interim.append((k, j))\n",
    "    N_i[i] = N_interim\n",
    "    N_interim = []\n",
    "    \n",
    "N_i"
   ]
  },
  {
   "cell_type": "code",
   "execution_count": 10,
   "metadata": {},
   "outputs": [
    {
     "name": "stdout",
     "output_type": "stream",
     "text": [
      "Restricted license - for non-production use only - expires 2024-10-28\n"
     ]
    }
   ],
   "source": [
    "model1 = gp.Model('Location-allocation problem 1')"
   ]
  },
  {
   "cell_type": "code",
   "execution_count": 11,
   "metadata": {},
   "outputs": [],
   "source": [
    "x_ikj = model1.addVars(I.index, L, vtype = GRB.INTEGER, name = 'x_ikj')\n",
    "y_j = model1.addVars(J.index, vtype = GRB.BINARY, name = 'y_j')"
   ]
  },
  {
   "cell_type": "code",
   "execution_count": 12,
   "metadata": {},
   "outputs": [
    {
     "data": {
      "text/plain": [
       "{'i0': <gurobi.Constr *Awaiting Model Update*>,\n",
       " 'i1': <gurobi.Constr *Awaiting Model Update*>,\n",
       " 'i2': <gurobi.Constr *Awaiting Model Update*>,\n",
       " 'i3': <gurobi.Constr *Awaiting Model Update*>,\n",
       " 'i4': <gurobi.Constr *Awaiting Model Update*>}"
      ]
     },
     "execution_count": 12,
     "metadata": {},
     "output_type": "execute_result"
    }
   ],
   "source": [
    "model1.addConstrs(gp.quicksum(x_ikj[i, k, j] for (k, j) in N_i[i]) >= theta[i] for i in I.index)"
   ]
  }
 ],
 "metadata": {
  "kernelspec": {
   "display_name": "base",
   "language": "python",
   "name": "python3"
  },
  "language_info": {
   "codemirror_mode": {
    "name": "ipython",
    "version": 3
   },
   "file_extension": ".py",
   "mimetype": "text/x-python",
   "name": "python",
   "nbconvert_exporter": "python",
   "pygments_lexer": "ipython3",
   "version": "3.9.12"
  }
 },
 "nbformat": 4,
 "nbformat_minor": 2
}
