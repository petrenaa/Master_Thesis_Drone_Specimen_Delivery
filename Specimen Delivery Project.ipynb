{
 "cells": [
  {
   "cell_type": "code",
   "execution_count": 352,
   "metadata": {},
   "outputs": [],
   "source": [
    "import pandas as pd\n",
    "import numpy as np\n",
    "import matplotlib.pyplot as plt\n",
    "import math\n",
    "import itertools\n",
    "import random\n",
    "random.seed(108448)\n",
    "from scipy.stats import poisson\n",
    "\n",
    "#%pip install gurobipy\n",
    "import gurobipy as gp\n",
    "from gurobipy import GRB"
   ]
  },
  {
   "cell_type": "code",
   "execution_count": 353,
   "metadata": {},
   "outputs": [],
   "source": [
    "#Define the number of elememts in each set I, J, K\n",
    "i_num = 20\n",
    "k_num = 1\n",
    "j_num = 100 #Without I and K, so real j_num_real = j_num + i_num + k_num\n",
    "\n",
    "#Define empty data frames\n",
    "I = pd.DataFrame(columns = ['Point number', 'Latitude', 'Longtitude'])\n",
    "J = pd.DataFrame(columns = ['Point number', 'Latitude', 'Longtitude'])\n",
    "K = pd.DataFrame(columns = ['Point number', 'Latitude', 'Longtitude'])\n"
   ]
  },
  {
   "cell_type": "code",
   "execution_count": 354,
   "metadata": {},
   "outputs": [
    {
     "data": {
      "text/plain": [
       "Index(['i0', 'i1', 'i2', 'i3', 'i4', 'i5', 'i6', 'i7', 'i8', 'i9', 'i10',\n",
       "       'i11', 'i12', 'i13', 'i14', 'i15', 'i16', 'i17', 'i18', 'i19'],\n",
       "      dtype='object', name='Point number')"
      ]
     },
     "execution_count": 354,
     "metadata": {},
     "output_type": "execute_result"
    }
   ],
   "source": [
    "#Define sets of I, J, K, where J contains I and K\n",
    "\n",
    "for i in range(i_num):\n",
    "    I.loc[i, 'Point number'] = 'i'+ str(i)\n",
    "    I.loc[i, 'Latitude'] = round(random.uniform(0, 100), 4)\n",
    "    I.loc[i, 'Longtitude'] = round(random.uniform(0, 100), 4)\n",
    "\n",
    "I.index = I['Point number']\n",
    "    \n",
    "    \n",
    "for k in range(k_num):\n",
    "    K.loc[k, 'Point number'] = 'k'+ str(k)\n",
    "    K.loc[k, 'Latitude'] = round(random.uniform(0, 100), 4)\n",
    "    K.loc[k, 'Longtitude'] = round(random.uniform(0, 100), 4)\n",
    "\n",
    "K.index = K['Point number']\n",
    "\n",
    "\n",
    "for j in range(j_num):\n",
    "    J.loc[j, 'Point number'] = 'j'+ str(j)\n",
    "    J.loc[j, 'Latitude'] = round(random.uniform(0, 100), 4)\n",
    "    J.loc[j, 'Longtitude'] = round(random.uniform(0, 100), 4)\n",
    "\n",
    "J.index = J['Point number'] \n",
    "J = pd.concat([J, K], axis = 0) #Include K to J\n",
    "I.index"
   ]
  },
  {
   "cell_type": "code",
   "execution_count": 355,
   "metadata": {},
   "outputs": [
    {
     "data": {
      "text/plain": [
       "<matplotlib.legend.Legend at 0x21b49d54940>"
      ]
     },
     "execution_count": 355,
     "metadata": {},
     "output_type": "execute_result"
    },
    {
     "data": {
      "image/png": "[encoded data removed]",
      "text/plain": [
       "<Figure size 432x288 with 1 Axes>"
      ]
     },
     "metadata": {
      "needs_background": "light"
     },
     "output_type": "display_data"
    }
   ],
   "source": [
    "plt.scatter(J['Latitude'], J['Longtitude'], color = 'blue', edgecolors = 'black',\n",
    "            marker = 'o', s = 30, label = 'J')\n",
    "plt.scatter(I['Latitude'], I['Longtitude'], color = 'gold', edgecolors = 'black',\n",
    "            marker = 's', s = 50, label = 'I')\n",
    "plt.scatter(K['Latitude'], K['Longtitude'], color = 'red', edgecolors = 'black',\n",
    "            marker = 'd', s = 90, label = 'K')\n",
    "plt.legend(loc='center left', bbox_to_anchor=(1, 0.5))"
   ]
  },
  {
   "cell_type": "code",
   "execution_count": 356,
   "metadata": {},
   "outputs": [],
   "source": [
    "#Define constants\n",
    "\n",
    "B = 100\n",
    "S = 10\n",
    "alpha = 10\n",
    "beta = 400\n",
    "q_j = {j: 50 for j in J.index}\n",
    "mu = 10"
   ]
  },
  {
   "cell_type": "markdown",
   "metadata": {},
   "source": [
    "Deterministic model"
   ]
  },
  {
   "cell_type": "code",
   "execution_count": 357,
   "metadata": {},
   "outputs": [
    {
     "data": {
      "text/plain": [
       "{'i0': 12,\n",
       " 'i1': 9,\n",
       " 'i2': 9,\n",
       " 'i3': 12,\n",
       " 'i4': 9,\n",
       " 'i5': 9,\n",
       " 'i6': 10,\n",
       " 'i7': 9,\n",
       " 'i8': 10,\n",
       " 'i9': 10,\n",
       " 'i10': 14,\n",
       " 'i11': 10,\n",
       " 'i12': 8,\n",
       " 'i13': 7,\n",
       " 'i14': 10,\n",
       " 'i15': 11,\n",
       " 'i16': 9,\n",
       " 'i17': 4,\n",
       " 'i18': 6,\n",
       " 'i19': 9}"
      ]
     },
     "execution_count": 357,
     "metadata": {},
     "output_type": "execute_result"
    }
   ],
   "source": [
    "theta_det = {}\n",
    "for n in range(0, len(list(I.index))):\n",
    "    theta_det[I.index[n]] = list(poisson.rvs(mu, size = 1))[0]\n",
    "theta_det"
   ]
  },
  {
   "cell_type": "code",
   "execution_count": 358,
   "metadata": {},
   "outputs": [
    {
     "data": {
      "text/plain": [
       "{('k0', 'j0'): 0.7038110897108715,\n",
       " ('k0', 'j1'): 61.63185199391626,\n",
       " ('k0', 'j2'): 24.640246181602976,\n",
       " ('k0', 'j3'): 61.32478256700141,\n",
       " ('k0', 'j4'): 81.02850557180479,\n",
       " ('k0', 'j5'): 22.68038149238236,\n",
       " ('k0', 'j6'): 21.246853083221527,\n",
       " ('k0', 'j7'): 20.553040081214252,\n",
       " ('k0', 'j8'): 22.49928410261091,\n",
       " ('k0', 'j9'): 64.20516841890534,\n",
       " ('k0', 'j10'): 11.54995390337122,\n",
       " ('k0', 'j11'): 40.42932303613307,\n",
       " ('k0', 'j12'): 10.662457088776483,\n",
       " ('k0', 'j13'): 35.80069974246313,\n",
       " ('k0', 'j14'): 36.65662633590276,\n",
       " ('k0', 'j15'): 49.01167981216314,\n",
       " ('k0', 'j16'): 57.46364507208013,\n",
       " ('k0', 'j17'): 74.48550248054987,\n",
       " ('k0', 'j18'): 15.552529815113685,\n",
       " ('k0', 'j19'): 38.588013090595894,\n",
       " ('k0', 'j20'): 21.152521540941635,\n",
       " ('k0', 'j21'): 82.83783882242463,\n",
       " ('k0', 'j22'): 72.37686257099018,\n",
       " ('k0', 'j23'): 70.81371710692781,\n",
       " ('k0', 'j24'): 104.76623322927097,\n",
       " ('k0', 'j25'): 24.54820101371993,\n",
       " ('k0', 'j26'): 69.90855526300054,\n",
       " ('k0', 'j27'): 16.69475911925655,\n",
       " ('k0', 'j28'): 3.7271670059174897,\n",
       " ('k0', 'j29'): 42.299699830731655,\n",
       " ('k0', 'j30'): 15.685125520696346,\n",
       " ('k0', 'j31'): 35.08756194736248,\n",
       " ('k0', 'j32'): 54.947777344038215,\n",
       " ('k0', 'j33'): 38.781068764282395,\n",
       " ('k0', 'j34'): 43.75186734026332,\n",
       " ('k0', 'j35'): 55.64410371081558,\n",
       " ('k0', 'j36'): 66.27235572242773,\n",
       " ('k0', 'j37'): 19.788125110782985,\n",
       " ('k0', 'j38'): 84.96900285362891,\n",
       " ('k0', 'j39'): 6.92600026927519,\n",
       " ('k0', 'j40'): 54.79343213670777,\n",
       " ('k0', 'j41'): 85.00995959939047,\n",
       " ('k0', 'j42'): 86.19336455064276,\n",
       " ('k0', 'j43'): 58.45699476581053,\n",
       " ('k0', 'j44'): 13.218533370990903,\n",
       " ('k0', 'j45'): 39.68172469853094,\n",
       " ('k0', 'j46'): 99.20806752905733,\n",
       " ('k0', 'j47'): 16.786130876708903,\n",
       " ('k0', 'j48'): 75.95689589141989,\n",
       " ('k0', 'j49'): 62.81716524899861,\n",
       " ('k0', 'j50'): 14.631239876374117,\n",
       " ('k0', 'j51'): 81.23633346754394,\n",
       " ('k0', 'j52'): 93.75513379404885,\n",
       " ('k0', 'j53'): 62.34315631574969,\n",
       " ('k0', 'j54'): 49.35242658633919,\n",
       " ('k0', 'j55'): 72.67333257289086,\n",
       " ('k0', 'j56'): 82.47189699679522,\n",
       " ('k0', 'j57'): 90.85537255093944,\n",
       " ('k0', 'j58'): 81.78358801966321,\n",
       " ('k0', 'j59'): 26.11658266561688,\n",
       " ('k0', 'j60'): 80.09173312271373,\n",
       " ('k0', 'j61'): 55.59329600770222,\n",
       " ('k0', 'j62'): 49.55796744217825,\n",
       " ('k0', 'j63'): 19.963335805671353,\n",
       " ('k0', 'j64'): 54.28415805610326,\n",
       " ('k0', 'j65'): 74.96403898837094,\n",
       " ('k0', 'j66'): 13.24541664727841,\n",
       " ('k0', 'j67'): 67.30696087396905,\n",
       " ('k0', 'j68'): 51.60357783041792,\n",
       " ('k0', 'j69'): 43.12252347961561,\n",
       " ('k0', 'j70'): 91.61767634959969,\n",
       " ('k0', 'j71'): 29.253757007605014,\n",
       " ('k0', 'j72'): 48.59404807638482,\n",
       " ('k0', 'j73'): 55.72167850522811,\n",
       " ('k0', 'j74'): 26.064562593874463,\n",
       " ('k0', 'j75'): 16.15307759437811,\n",
       " ('k0', 'j76'): 26.204712532672435,\n",
       " ('k0', 'j77'): 38.315766855564824,\n",
       " ('k0', 'j78'): 35.30557305539735,\n",
       " ('k0', 'j79'): 81.85447487242222,\n",
       " ('k0', 'j80'): 43.130544324527136,\n",
       " ('k0', 'j81'): 63.08621260529118,\n",
       " ('k0', 'j82'): 75.7875680317689,\n",
       " ('k0', 'j83'): 83.03426209685975,\n",
       " ('k0', 'j84'): 68.31350021811208,\n",
       " ('k0', 'j85'): 59.907270029604916,\n",
       " ('k0', 'j86'): 7.122747695236719,\n",
       " ('k0', 'j87'): 71.44324593052866,\n",
       " ('k0', 'j88'): 59.237219466565115,\n",
       " ('k0', 'j89'): 70.9155724340571,\n",
       " ('k0', 'j90'): 32.67101897278381,\n",
       " ('k0', 'j91'): 81.17587681201847,\n",
       " ('k0', 'j92'): 28.168879147917828,\n",
       " ('k0', 'j93'): 14.650974463836869,\n",
       " ('k0', 'j94'): 10.628275648006126,\n",
       " ('k0', 'j95'): 8.261220060620587,\n",
       " ('k0', 'j96'): 30.677379812819733,\n",
       " ('k0', 'j97'): 18.18522528922862,\n",
       " ('k0', 'j98'): 21.582804516790677,\n",
       " ('k0', 'j99'): 39.158249084069126,\n",
       " ('k0', 'k0'): 0.0}"
      ]
     },
     "execution_count": 358,
     "metadata": {},
     "output_type": "execute_result"
    }
   ],
   "source": [
    "#Define distance matrices\n",
    "\n",
    "def distance(point1, PointsSet1, point2, PointsSet2):\n",
    "    c1 = np.array((PointsSet1.loc[point1, 'Latitude'], PointsSet1.loc[point1, 'Longtitude']))\n",
    "    c2 = np.array((PointsSet2.loc[point2, 'Latitude'], PointsSet2.loc[point2, 'Longtitude']))\n",
    "    return np.linalg.norm(c1-c2)\n",
    "\n",
    "dist_JI = {(c1, c2): distance(c1, J, c2, I)for c1, c2 in itertools.product(J.index, I.index)}\n",
    "dist_IK = {(c1, c2): distance(c1, I, c2, K)for c1, c2 in itertools.product(I.index, K.index)}\n",
    "dist_KJ = {(c1, c2): distance(c1, K, c2, J)for c1, c2 in itertools.product(K.index, J.index)}\n",
    " \n",
    "dist_KJ\n"
   ]
  },
  {
   "cell_type": "code",
   "execution_count": 359,
   "metadata": {},
   "outputs": [
    {
     "data": {
      "text/plain": [
       "[('k0', 'j0'),\n",
       " ('k0', 'j2'),\n",
       " ('k0', 'j5'),\n",
       " ('k0', 'j6'),\n",
       " ('k0', 'j7'),\n",
       " ('k0', 'j8'),\n",
       " ('k0', 'j10'),\n",
       " ('k0', 'j11'),\n",
       " ('k0', 'j12'),\n",
       " ('k0', 'j13'),\n",
       " ('k0', 'j14'),\n",
       " ('k0', 'j15'),\n",
       " ('k0', 'j18'),\n",
       " ('k0', 'j19'),\n",
       " ('k0', 'j20'),\n",
       " ('k0', 'j25'),\n",
       " ('k0', 'j27'),\n",
       " ('k0', 'j28'),\n",
       " ('k0', 'j29'),\n",
       " ('k0', 'j30'),\n",
       " ('k0', 'j31'),\n",
       " ('k0', 'j33'),\n",
       " ('k0', 'j34'),\n",
       " ('k0', 'j37'),\n",
       " ('k0', 'j39'),\n",
       " ('k0', 'j44'),\n",
       " ('k0', 'j45'),\n",
       " ('k0', 'j47'),\n",
       " ('k0', 'j50'),\n",
       " ('k0', 'j54'),\n",
       " ('k0', 'j59'),\n",
       " ('k0', 'j62'),\n",
       " ('k0', 'j63'),\n",
       " ('k0', 'j66'),\n",
       " ('k0', 'j69'),\n",
       " ('k0', 'j71'),\n",
       " ('k0', 'j72'),\n",
       " ('k0', 'j74'),\n",
       " ('k0', 'j75'),\n",
       " ('k0', 'j76'),\n",
       " ('k0', 'j77'),\n",
       " ('k0', 'j78'),\n",
       " ('k0', 'j80'),\n",
       " ('k0', 'j86'),\n",
       " ('k0', 'j90'),\n",
       " ('k0', 'j92'),\n",
       " ('k0', 'j93'),\n",
       " ('k0', 'j94'),\n",
       " ('k0', 'j95'),\n",
       " ('k0', 'j96'),\n",
       " ('k0', 'j97'),\n",
       " ('k0', 'j98'),\n",
       " ('k0', 'j99'),\n",
       " ('k0', 'k0')]"
      ]
     },
     "execution_count": 359,
     "metadata": {},
     "output_type": "execute_result"
    }
   ],
   "source": [
    "#Define set L\n",
    "L = list()\n",
    "for k, j in itertools.product(K.index, J.index):\n",
    "    if dist_KJ[(k, j)] <= 0.5*B:\n",
    "        L.append((k, j))\n",
    "        \n",
    "L"
   ]
  },
  {
   "cell_type": "code",
   "execution_count": 360,
   "metadata": {},
   "outputs": [
    {
     "data": {
      "text/plain": [
       "[('k0', 'j0'),\n",
       " ('k0', 'j12'),\n",
       " ('k0', 'j13'),\n",
       " ('k0', 'j18'),\n",
       " ('k0', 'j20'),\n",
       " ('k0', 'j27'),\n",
       " ('k0', 'j28'),\n",
       " ('k0', 'j29'),\n",
       " ('k0', 'j30'),\n",
       " ('k0', 'j31'),\n",
       " ('k0', 'j34'),\n",
       " ('k0', 'j37'),\n",
       " ('k0', 'j47'),\n",
       " ('k0', 'j77'),\n",
       " ('k0', 'j92'),\n",
       " ('k0', 'j95'),\n",
       " ('k0', 'j99'),\n",
       " ('k0', 'k0')]"
      ]
     },
     "execution_count": 360,
     "metadata": {},
     "output_type": "execute_result"
    }
   ],
   "source": [
    "#Define sets M_kj\n",
    "\n",
    "M_kj = {}\n",
    "M_interim = []\n",
    "\n",
    "for (k, j) in L:\n",
    "    for i in I.index:\n",
    "        if dist_JI[j, i] <= S:\n",
    "            if dist_JI[j, i] + dist_IK[i, k] + dist_KJ[k, j] <= B:\n",
    "                M_interim.append(i)\n",
    "    M_kj[(k, j)] = M_interim\n",
    "    M_interim = []\n",
    "\n",
    "M_kj_interim = {key : val for key, val in M_kj.items() if val != []}  \n",
    "\n",
    "KJ_feas = list(M_kj_interim.keys())\n",
    "KJ_feas\n"
   ]
  },
  {
   "cell_type": "code",
   "execution_count": 361,
   "metadata": {},
   "outputs": [
    {
     "data": {
      "text/plain": [
       "['i0', 'i1', 'i3', 'i4', 'i5', 'i11', 'i15']"
      ]
     },
     "execution_count": 361,
     "metadata": {},
     "output_type": "execute_result"
    }
   ],
   "source": [
    "#Define sets N_i\n",
    "\n",
    "N_i = {}\n",
    "N_interim = []\n",
    "\n",
    "for i in I.index:\n",
    "    for (k, j) in L:\n",
    "        if dist_JI[j, i] <= S:\n",
    "            if dist_JI[j, i] + dist_IK[i, k] + dist_KJ[k, j] <= B:\n",
    "                N_interim.append((k, j))\n",
    "    N_i[i] = N_interim\n",
    "    N_interim = []\n",
    "    \n",
    "N_i_interim = {key : val for key, val in N_i.items() if val != []}   \n",
    " \n",
    "I_feas = list(N_i_interim.keys())\n",
    "I_feas"
   ]
  },
  {
   "cell_type": "code",
   "execution_count": 362,
   "metadata": {},
   "outputs": [],
   "source": [
    "model_det = gp.Model('Location-allocation problem 1')"
   ]
  },
  {
   "cell_type": "code",
   "execution_count": 363,
   "metadata": {},
   "outputs": [],
   "source": [
    "x_ikj = model_det.addVars(I.index, L, vtype = GRB.INTEGER, name = 'x_ikj')\n",
    "y_j = model_det.addVars(J.index, vtype = GRB.BINARY, name = 'y_j')"
   ]
  },
  {
   "cell_type": "code",
   "execution_count": 364,
   "metadata": {},
   "outputs": [
    {
     "data": {
      "text/plain": [
       "{}"
      ]
     },
     "execution_count": 364,
     "metadata": {},
     "output_type": "execute_result"
    }
   ],
   "source": [
    "model_det.addConstrs((gp.quicksum(x_ikj[i, k, j] for (k, j) in N_i[i]) >= theta_det[i] for i in I_feas), name = 'c2')\n",
    "model_det.addConstrs((gp.quicksum(x_ikj[i, k, j] for i in M_kj[(k, j)]) <= q_j[j] * y_j[j] for (k, j) in KJ_feas), name = 'c4')\n",
    "model_det.addConstrs(((dist_JI[(j, i)] + dist_IK[(i, k)] + dist_KJ[(k, j)]) * y_j[j] <= B\n",
    "                  for (k, j) in N_i[i] for i in M_kj[(k, j)]), name = 'c5')\n",
    "model_det.addConstrs((dist_JI[(j, i)] * y_j[j] <= S for (k, j) in N_i[i] for i in M_kj[(k, j)]), name = 'c6')"
   ]
  },
  {
   "cell_type": "code",
   "execution_count": 365,
   "metadata": {},
   "outputs": [],
   "source": [
    "model_det.setObjective(alpha * gp.quicksum(x_ikj) + beta * gp.quicksum(y_j), GRB.MINIMIZE)"
   ]
  },
  {
   "cell_type": "code",
   "execution_count": 366,
   "metadata": {},
   "outputs": [
    {
     "name": "stdout",
     "output_type": "stream",
     "text": [
      "Gurobi Optimizer version 10.0.3 build v10.0.3rc0 (win64)\n",
      "\n",
      "CPU model: 11th Gen Intel(R) Core(TM) i5-1145G7 @ 2.60GHz, instruction set [SSE2|AVX|AVX2|AVX512]\n",
      "Thread count: 4 physical cores, 8 logical processors, using up to 8 threads\n",
      "\n",
      "Optimize a model with 25 rows, 1181 columns and 68 nonzeros\n",
      "Model fingerprint: 0xd8bb0b41\n",
      "Variable types: 0 continuous, 1181 integer (101 binary)\n",
      "Coefficient statistics:\n",
      "  Matrix range     [1e+00, 5e+01]\n",
      "  Objective range  [1e+01, 4e+02]\n",
      "  Bounds range     [1e+00, 1e+00]\n",
      "  RHS range        [9e+00, 1e+01]\n",
      "Found heuristic solution: objective 3120.0000000\n",
      "Presolve removed 15 rows and 1160 columns\n",
      "Presolve time: 0.00s\n",
      "Presolved: 10 rows, 21 columns, 34 nonzeros\n",
      "Found heuristic solution: objective 2720.0000000\n",
      "Variable types: 0 continuous, 21 integer (8 binary)\n",
      "\n",
      "Root relaxation: objective 2.320000e+03, 14 iterations, 0.00 seconds (0.00 work units)\n",
      "\n",
      "    Nodes    |    Current Node    |     Objective Bounds      |     Work\n",
      " Expl Unexpl |  Obj  Depth IntInf | Incumbent    BestBd   Gap | It/Node Time\n",
      "\n",
      "     0     0 2320.00000    0    2 2720.00000 2320.00000  14.7%     -    0s\n",
      "H    0     0                    2320.0000000 2320.00000  0.00%     -    0s\n",
      "\n",
      "Cutting planes:\n",
      "  Gomory: 2\n",
      "  Implied bound: 2\n",
      "\n",
      "Explored 1 nodes (14 simplex iterations) in 0.02 seconds (0.00 work units)\n",
      "Thread count was 8 (of 8 available processors)\n",
      "\n",
      "Solution count 3: 2320 2720 3120 \n",
      "\n",
      "Optimal solution found (tolerance 1.00e-04)\n",
      "Best objective 2.320000000000e+03, best bound 2.320000000000e+03, gap 0.0000%\n"
     ]
    }
   ],
   "source": [
    "model_det.optimize()"
   ]
  },
  {
   "cell_type": "code",
   "execution_count": 367,
   "metadata": {},
   "outputs": [
    {
     "name": "stdout",
     "output_type": "stream",
     "text": [
      "Number of solutions found: 3\n",
      "2320 \n",
      "x_ikj[i0,k0,k0] 12\n",
      "x_ikj[i1,k0,j92] 9\n",
      "x_ikj[i3,k0,j99] 12\n",
      "x_ikj[i4,k0,k0] 9\n",
      "x_ikj[i5,k0,j99] 9\n",
      "x_ikj[i11,k0,j92] 10\n",
      "x_ikj[i15,k0,j29] 11\n",
      "y_j[j29] 1\n",
      "y_j[j92] 1\n",
      "y_j[j99] 1\n",
      "y_j[k0] 1\n",
      "\n",
      "\n",
      "\n",
      "\n"
     ]
    }
   ],
   "source": [
    "nSolutions = model_det.SolCount\n",
    "print('Number of solutions found: ' + str(nSolutions))\n",
    "#for e in range(nSolutions):\n",
    "for iter2 in range(1):\n",
    "        model_det.setParam(GRB.Param.SolutionNumber, iter2)\n",
    "        print('%g ' % model_det.PoolObjVal, end='\\n')\n",
    "        for v in model_det.getVars():\n",
    "             if v.xn > 0:\n",
    "                   print ('%s %g' % (v.varName, v.Xn))\n",
    "        print(\"\\n\")\n",
    "print(\"\\n\")"
   ]
  },
  {
   "cell_type": "code",
   "execution_count": 368,
   "metadata": {},
   "outputs": [
    {
     "data": {
      "image/png": "[encoded data removed]",
      "text/plain": [
       "<Figure size 432x288 with 1 Axes>"
      ]
     },
     "metadata": {
      "needs_background": "light"
     },
     "output_type": "display_data"
    }
   ],
   "source": [
    "def SolutionGraph(I, K, J, model):\n",
    "    \n",
    "    # plt.scatter(J['Latitude'], J['Longtitude'], color = 'blue', edgecolors = 'black',\n",
    "    #             marker = 'o', s = 30, label = 'J')\n",
    "    plt.scatter(I['Latitude'], I['Longtitude'], color = 'gold', edgecolors = 'black',\n",
    "                marker = 's', s = 50, label = 'I')\n",
    "    plt.scatter(K['Latitude'], K['Longtitude'], color = 'red', edgecolors = 'black',\n",
    "                marker = 'd', s = 90, label = 'K')\n",
    "\n",
    "\n",
    "    for v in model.getVars():\n",
    "        if v.xn > 0:\n",
    "            if v.varName.startswith('x_ikj'):\n",
    "                indices_x = v.varName[6:-1].split(',') #drop variable name and brackets and convert to a list of indices\n",
    "                plt.plot((J.loc[indices_x[2], 'Latitude'], I.loc[indices_x[0], 'Latitude']),\n",
    "                        (J.loc[indices_x[2], 'Longtitude'], I.loc[indices_x[0], 'Longtitude']),\n",
    "                        color = 'lightseagreen', linestyle = \"--\", linewidth = 0.7)\n",
    "                plt.plot((I.loc[indices_x[0], 'Latitude'], K.loc[indices_x[1], 'Latitude']),\n",
    "                        (I.loc[indices_x[0], 'Longtitude'], K.loc[indices_x[1], 'Longtitude']),\n",
    "                        color = 'lightseagreen', linestyle = \"--\", linewidth = 0.7)\n",
    "                plt.annotate(str(int(v.xn)), xy = ((J.loc[indices_x[2], 'Latitude'] + I.loc[indices_x[0], 'Latitude'])/2,\n",
    "                                                (J.loc[indices_x[2], 'Longtitude'] + I.loc[indices_x[0], 'Longtitude'])/2))\n",
    "            else:\n",
    "                index_y = v.varName[4:-1]\n",
    "                plt.scatter(J.loc[index_y, 'Latitude'], J.loc[index_y, 'Longtitude'], color = 'green',\n",
    "                            edgecolors = 'black', s = 100, marker = 'X', label = index_y)\n",
    "        \n",
    "            \n",
    "\n",
    "    plt.legend(loc = 'center left', bbox_to_anchor = (1, 0.5))\n",
    "    \n",
    "\n",
    "SolutionGraph(I, K, J, model_det)"
   ]
  },
  {
   "cell_type": "markdown",
   "metadata": {},
   "source": [
    "Probabilistic model"
   ]
  },
  {
   "cell_type": "code",
   "execution_count": 370,
   "metadata": {},
   "outputs": [
    {
     "data": {
      "text/plain": [
       "{'i0': <scipy.stats._distn_infrastructure.rv_frozen at 0x21b49e5bf10>,\n",
       " 'i1': <scipy.stats._distn_infrastructure.rv_frozen at 0x21b49e6d550>,\n",
       " 'i2': <scipy.stats._distn_infrastructure.rv_frozen at 0x21b49e5bf40>,\n",
       " 'i3': <scipy.stats._distn_infrastructure.rv_frozen at 0x21b49e6d6d0>,\n",
       " 'i4': <scipy.stats._distn_infrastructure.rv_frozen at 0x21b49a12850>,\n",
       " 'i5': <scipy.stats._distn_infrastructure.rv_frozen at 0x21b49e6d880>,\n",
       " 'i6': <scipy.stats._distn_infrastructure.rv_frozen at 0x21b49e700d0>,\n",
       " 'i7': <scipy.stats._distn_infrastructure.rv_frozen at 0x21b49e6da60>,\n",
       " 'i8': <scipy.stats._distn_infrastructure.rv_frozen at 0x21b49e70310>,\n",
       " 'i9': <scipy.stats._distn_infrastructure.rv_frozen at 0x21b49e6d3d0>,\n",
       " 'i10': <scipy.stats._distn_infrastructure.rv_frozen at 0x21b49e70550>,\n",
       " 'i11': <scipy.stats._distn_infrastructure.rv_frozen at 0x21b49e6d700>,\n",
       " 'i12': <scipy.stats._distn_infrastructure.rv_frozen at 0x21b49e70970>,\n",
       " 'i13': <scipy.stats._distn_infrastructure.rv_frozen at 0x21b49e76280>,\n",
       " 'i14': <scipy.stats._distn_infrastructure.rv_frozen at 0x21b49e70910>,\n",
       " 'i15': <scipy.stats._distn_infrastructure.rv_frozen at 0x21b49e76580>,\n",
       " 'i16': <scipy.stats._distn_infrastructure.rv_frozen at 0x21b49e70190>,\n",
       " 'i17': <scipy.stats._distn_infrastructure.rv_frozen at 0x21b499dd460>,\n",
       " 'i18': <scipy.stats._distn_infrastructure.rv_frozen at 0x21b49e56a90>,\n",
       " 'i19': <scipy.stats._distn_infrastructure.rv_frozen at 0x21b49e7f280>}"
      ]
     },
     "execution_count": 370,
     "metadata": {},
     "output_type": "execute_result"
    }
   ],
   "source": [
    "theta_ran_i = {}\n",
    "for n in range(0, len(list(I.index))):\n",
    "    theta_ran_i[I.index[n]] = poisson(mu)\n",
    "theta_ran_i"
   ]
  }
 ],
 "metadata": {
  "kernelspec": {
   "display_name": "base",
   "language": "python",
   "name": "python3"
  },
  "language_info": {
   "codemirror_mode": {
    "name": "ipython",
    "version": 3
   },
   "file_extension": ".py",
   "mimetype": "text/x-python",
   "name": "python",
   "nbconvert_exporter": "python",
   "pygments_lexer": "ipython3",
   "version": "3.9.12"
  }
 },
 "nbformat": 4,
 "nbformat_minor": 2
}
